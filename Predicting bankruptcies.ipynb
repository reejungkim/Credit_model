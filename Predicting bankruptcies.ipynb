{
 "cells": [
  {
   "cell_type": "markdown",
   "id": "massive-springer",
   "metadata": {},
   "source": [
    "https://towardsdatascience.com/streamline-model-tuning-on-bankruptcy-predictions-aabbc2fe62c0"
   ]
  },
  {
   "cell_type": "code",
   "execution_count": 1,
   "id": "negative-harrison",
   "metadata": {},
   "outputs": [],
   "source": [
    "import warnings\n",
    "warnings.filterwarnings(\"ignore\")\n",
    "\n",
    "# Load up packages\n",
    "import pandas as pd\n",
    "import numpy as np\n",
    "import matplotlib.pyplot as plt\n",
    "%matplotlib inline\n",
    "from sklearn.linear_model import LogisticRegression\n",
    "\n",
    "from sklearn.ensemble import GradientBoostingClassifier\n",
    "#from xgboost import XGBClassifier\n",
    "from sklearn.model_selection import train_test_split\n",
    "from sklearn.metrics import roc_curve, auc, roc_auc_score\n",
    "#import h2o\n",
    "#from h2o.automl import H2OAutoML\n"
   ]
  },
  {
   "cell_type": "code",
   "execution_count": 2,
   "id": "intellectual-arrest",
   "metadata": {},
   "outputs": [],
   "source": [
    "from xgboost import XGBClassifier"
   ]
  },
  {
   "cell_type": "code",
   "execution_count": 3,
   "id": "apart-orientation",
   "metadata": {},
   "outputs": [],
   "source": [
    "# Load data\n",
    "data = pd.read_csv('/Users/reejungkim/Documents/Git/companies-bankruptcy-forecast/bankruptcy_Train.csv')"
   ]
  },
  {
   "cell_type": "code",
   "execution_count": 4,
   "id": "blond-american",
   "metadata": {},
   "outputs": [
    {
     "data": {
      "text/html": [
       "<div>\n",
       "<style scoped>\n",
       "    .dataframe tbody tr th:only-of-type {\n",
       "        vertical-align: middle;\n",
       "    }\n",
       "\n",
       "    .dataframe tbody tr th {\n",
       "        vertical-align: top;\n",
       "    }\n",
       "\n",
       "    .dataframe thead th {\n",
       "        text-align: right;\n",
       "    }\n",
       "</style>\n",
       "<table border=\"1\" class=\"dataframe\">\n",
       "  <thead>\n",
       "    <tr style=\"text-align: right;\">\n",
       "      <th></th>\n",
       "      <th>Attr1</th>\n",
       "      <th>Attr2</th>\n",
       "      <th>Attr3</th>\n",
       "      <th>Attr4</th>\n",
       "      <th>Attr5</th>\n",
       "      <th>Attr6</th>\n",
       "      <th>Attr7</th>\n",
       "      <th>Attr8</th>\n",
       "      <th>Attr9</th>\n",
       "      <th>Attr10</th>\n",
       "      <th>...</th>\n",
       "      <th>Attr56</th>\n",
       "      <th>Attr57</th>\n",
       "      <th>Attr58</th>\n",
       "      <th>Attr59</th>\n",
       "      <th>Attr60</th>\n",
       "      <th>Attr61</th>\n",
       "      <th>Attr62</th>\n",
       "      <th>Attr63</th>\n",
       "      <th>Attr64</th>\n",
       "      <th>class</th>\n",
       "    </tr>\n",
       "  </thead>\n",
       "  <tbody>\n",
       "    <tr>\n",
       "      <th>0</th>\n",
       "      <td>-0.031545</td>\n",
       "      <td>-0.091313</td>\n",
       "      <td>-0.040269</td>\n",
       "      <td>-0.013529</td>\n",
       "      <td>0.007406</td>\n",
       "      <td>-0.016047</td>\n",
       "      <td>-0.000264</td>\n",
       "      <td>0.641242</td>\n",
       "      <td>-0.748385</td>\n",
       "      <td>0.126789</td>\n",
       "      <td>...</td>\n",
       "      <td>0.014367</td>\n",
       "      <td>0.005457</td>\n",
       "      <td>-0.014143</td>\n",
       "      <td>-0.020924</td>\n",
       "      <td>0.068399</td>\n",
       "      <td>-0.214478</td>\n",
       "      <td>-0.013915</td>\n",
       "      <td>-0.173939</td>\n",
       "      <td>-0.046788</td>\n",
       "      <td>0</td>\n",
       "    </tr>\n",
       "    <tr>\n",
       "      <th>1</th>\n",
       "      <td>-0.231729</td>\n",
       "      <td>-0.049448</td>\n",
       "      <td>0.304381</td>\n",
       "      <td>-0.080975</td>\n",
       "      <td>0.007515</td>\n",
       "      <td>-0.016047</td>\n",
       "      <td>-0.034963</td>\n",
       "      <td>0.074710</td>\n",
       "      <td>0.469815</td>\n",
       "      <td>0.073759</td>\n",
       "      <td>...</td>\n",
       "      <td>0.008492</td>\n",
       "      <td>-0.008385</td>\n",
       "      <td>-0.008666</td>\n",
       "      <td>-0.023095</td>\n",
       "      <td>-0.033498</td>\n",
       "      <td>-0.205796</td>\n",
       "      <td>-0.015174</td>\n",
       "      <td>-0.073056</td>\n",
       "      <td>-0.027236</td>\n",
       "      <td>0</td>\n",
       "    </tr>\n",
       "    <tr>\n",
       "      <th>2</th>\n",
       "      <td>-0.058602</td>\n",
       "      <td>0.065060</td>\n",
       "      <td>-0.488404</td>\n",
       "      <td>-0.189489</td>\n",
       "      <td>0.006572</td>\n",
       "      <td>-0.016047</td>\n",
       "      <td>-0.004954</td>\n",
       "      <td>-0.456287</td>\n",
       "      <td>0.270351</td>\n",
       "      <td>-0.071287</td>\n",
       "      <td>...</td>\n",
       "      <td>0.010819</td>\n",
       "      <td>0.006779</td>\n",
       "      <td>-0.009437</td>\n",
       "      <td>-0.007919</td>\n",
       "      <td>-0.043455</td>\n",
       "      <td>0.019740</td>\n",
       "      <td>-0.011736</td>\n",
       "      <td>-0.291624</td>\n",
       "      <td>-0.033580</td>\n",
       "      <td>0</td>\n",
       "    </tr>\n",
       "    <tr>\n",
       "      <th>3</th>\n",
       "      <td>-0.069376</td>\n",
       "      <td>0.044641</td>\n",
       "      <td>-0.181684</td>\n",
       "      <td>-0.140032</td>\n",
       "      <td>0.007477</td>\n",
       "      <td>-0.010915</td>\n",
       "      <td>-0.005599</td>\n",
       "      <td>-0.462971</td>\n",
       "      <td>-0.286746</td>\n",
       "      <td>-0.085266</td>\n",
       "      <td>...</td>\n",
       "      <td>0.010683</td>\n",
       "      <td>0.005384</td>\n",
       "      <td>-0.010840</td>\n",
       "      <td>0.001381</td>\n",
       "      <td>-0.042828</td>\n",
       "      <td>-0.350519</td>\n",
       "      <td>0.002969</td>\n",
       "      <td>-0.554685</td>\n",
       "      <td>-0.046823</td>\n",
       "      <td>0</td>\n",
       "    </tr>\n",
       "    <tr>\n",
       "      <th>4</th>\n",
       "      <td>0.236424</td>\n",
       "      <td>-0.051912</td>\n",
       "      <td>0.678337</td>\n",
       "      <td>-0.014680</td>\n",
       "      <td>0.007879</td>\n",
       "      <td>-0.016047</td>\n",
       "      <td>0.057418</td>\n",
       "      <td>0.097183</td>\n",
       "      <td>0.423405</td>\n",
       "      <td>0.076880</td>\n",
       "      <td>...</td>\n",
       "      <td>0.010970</td>\n",
       "      <td>0.025295</td>\n",
       "      <td>-0.011056</td>\n",
       "      <td>-0.022535</td>\n",
       "      <td>-0.035892</td>\n",
       "      <td>-0.181557</td>\n",
       "      <td>-0.015623</td>\n",
       "      <td>-0.027841</td>\n",
       "      <td>-0.023694</td>\n",
       "      <td>0</td>\n",
       "    </tr>\n",
       "  </tbody>\n",
       "</table>\n",
       "<p>5 rows × 65 columns</p>\n",
       "</div>"
      ],
      "text/plain": [
       "      Attr1     Attr2     Attr3     Attr4     Attr5     Attr6     Attr7  \\\n",
       "0 -0.031545 -0.091313 -0.040269 -0.013529  0.007406 -0.016047 -0.000264   \n",
       "1 -0.231729 -0.049448  0.304381 -0.080975  0.007515 -0.016047 -0.034963   \n",
       "2 -0.058602  0.065060 -0.488404 -0.189489  0.006572 -0.016047 -0.004954   \n",
       "3 -0.069376  0.044641 -0.181684 -0.140032  0.007477 -0.010915 -0.005599   \n",
       "4  0.236424 -0.051912  0.678337 -0.014680  0.007879 -0.016047  0.057418   \n",
       "\n",
       "      Attr8     Attr9    Attr10  ...    Attr56    Attr57    Attr58    Attr59  \\\n",
       "0  0.641242 -0.748385  0.126789  ...  0.014367  0.005457 -0.014143 -0.020924   \n",
       "1  0.074710  0.469815  0.073759  ...  0.008492 -0.008385 -0.008666 -0.023095   \n",
       "2 -0.456287  0.270351 -0.071287  ...  0.010819  0.006779 -0.009437 -0.007919   \n",
       "3 -0.462971 -0.286746 -0.085266  ...  0.010683  0.005384 -0.010840  0.001381   \n",
       "4  0.097183  0.423405  0.076880  ...  0.010970  0.025295 -0.011056 -0.022535   \n",
       "\n",
       "     Attr60    Attr61    Attr62    Attr63    Attr64  class  \n",
       "0  0.068399 -0.214478 -0.013915 -0.173939 -0.046788      0  \n",
       "1 -0.033498 -0.205796 -0.015174 -0.073056 -0.027236      0  \n",
       "2 -0.043455  0.019740 -0.011736 -0.291624 -0.033580      0  \n",
       "3 -0.042828 -0.350519  0.002969 -0.554685 -0.046823      0  \n",
       "4 -0.035892 -0.181557 -0.015623 -0.027841 -0.023694      0  \n",
       "\n",
       "[5 rows x 65 columns]"
      ]
     },
     "execution_count": 4,
     "metadata": {},
     "output_type": "execute_result"
    }
   ],
   "source": [
    "data.head()"
   ]
  },
  {
   "cell_type": "code",
   "execution_count": 5,
   "id": "homeless-breed",
   "metadata": {},
   "outputs": [
    {
     "data": {
      "text/html": [
       "<div>\n",
       "<style scoped>\n",
       "    .dataframe tbody tr th:only-of-type {\n",
       "        vertical-align: middle;\n",
       "    }\n",
       "\n",
       "    .dataframe tbody tr th {\n",
       "        vertical-align: top;\n",
       "    }\n",
       "\n",
       "    .dataframe thead th {\n",
       "        text-align: right;\n",
       "    }\n",
       "</style>\n",
       "<table border=\"1\" class=\"dataframe\">\n",
       "  <thead>\n",
       "    <tr style=\"text-align: right;\">\n",
       "      <th></th>\n",
       "      <th>Attr1</th>\n",
       "      <th>Attr2</th>\n",
       "      <th>Attr3</th>\n",
       "      <th>Attr4</th>\n",
       "      <th>Attr5</th>\n",
       "      <th>Attr6</th>\n",
       "      <th>Attr7</th>\n",
       "      <th>Attr8</th>\n",
       "      <th>Attr9</th>\n",
       "      <th>Attr10</th>\n",
       "      <th>...</th>\n",
       "      <th>Attr56</th>\n",
       "      <th>Attr57</th>\n",
       "      <th>Attr58</th>\n",
       "      <th>Attr59</th>\n",
       "      <th>Attr60</th>\n",
       "      <th>Attr61</th>\n",
       "      <th>Attr62</th>\n",
       "      <th>Attr63</th>\n",
       "      <th>Attr64</th>\n",
       "      <th>class</th>\n",
       "    </tr>\n",
       "  </thead>\n",
       "  <tbody>\n",
       "    <tr>\n",
       "      <th>count</th>\n",
       "      <td>10000.000000</td>\n",
       "      <td>10000.000000</td>\n",
       "      <td>10000.000000</td>\n",
       "      <td>10000.000000</td>\n",
       "      <td>10000.000000</td>\n",
       "      <td>10000.000000</td>\n",
       "      <td>10000.000000</td>\n",
       "      <td>10000.000000</td>\n",
       "      <td>10000.000000</td>\n",
       "      <td>10000.000000</td>\n",
       "      <td>...</td>\n",
       "      <td>10000.000000</td>\n",
       "      <td>10000.000000</td>\n",
       "      <td>10000.000000</td>\n",
       "      <td>10000.000000</td>\n",
       "      <td>10000.000000</td>\n",
       "      <td>10000.000000</td>\n",
       "      <td>10000.000000</td>\n",
       "      <td>10000.000000</td>\n",
       "      <td>10000.000000</td>\n",
       "      <td>10000.000000</td>\n",
       "    </tr>\n",
       "    <tr>\n",
       "      <th>mean</th>\n",
       "      <td>0.007954</td>\n",
       "      <td>-0.007140</td>\n",
       "      <td>-0.003544</td>\n",
       "      <td>0.005005</td>\n",
       "      <td>-0.004687</td>\n",
       "      <td>0.001455</td>\n",
       "      <td>-0.006963</td>\n",
       "      <td>0.009053</td>\n",
       "      <td>0.006763</td>\n",
       "      <td>0.007456</td>\n",
       "      <td>...</td>\n",
       "      <td>0.009804</td>\n",
       "      <td>0.005208</td>\n",
       "      <td>-0.009751</td>\n",
       "      <td>-0.002655</td>\n",
       "      <td>0.004548</td>\n",
       "      <td>0.014331</td>\n",
       "      <td>-0.006864</td>\n",
       "      <td>0.020750</td>\n",
       "      <td>-0.003984</td>\n",
       "      <td>0.020300</td>\n",
       "    </tr>\n",
       "    <tr>\n",
       "      <th>std</th>\n",
       "      <td>1.396405</td>\n",
       "      <td>1.409440</td>\n",
       "      <td>1.015494</td>\n",
       "      <td>0.908020</td>\n",
       "      <td>1.394750</td>\n",
       "      <td>1.286713</td>\n",
       "      <td>1.412509</td>\n",
       "      <td>1.064426</td>\n",
       "      <td>1.171199</td>\n",
       "      <td>1.407349</td>\n",
       "      <td>...</td>\n",
       "      <td>0.017370</td>\n",
       "      <td>0.718682</td>\n",
       "      <td>0.026124</td>\n",
       "      <td>0.467139</td>\n",
       "      <td>1.252571</td>\n",
       "      <td>1.171160</td>\n",
       "      <td>0.277288</td>\n",
       "      <td>1.115182</td>\n",
       "      <td>0.930875</td>\n",
       "      <td>0.141032</td>\n",
       "    </tr>\n",
       "    <tr>\n",
       "      <th>min</th>\n",
       "      <td>-9.474787</td>\n",
       "      <td>-140.604555</td>\n",
       "      <td>-25.597146</td>\n",
       "      <td>-0.381641</td>\n",
       "      <td>-138.720013</td>\n",
       "      <td>-26.249562</td>\n",
       "      <td>-141.176615</td>\n",
       "      <td>-0.966015</td>\n",
       "      <td>-1.294340</td>\n",
       "      <td>-2.528495</td>\n",
       "      <td>...</td>\n",
       "      <td>-1.657288</td>\n",
       "      <td>-42.381245</td>\n",
       "      <td>-0.037484</td>\n",
       "      <td>-3.218490</td>\n",
       "      <td>-0.048598</td>\n",
       "      <td>-0.412525</td>\n",
       "      <td>-0.022204</td>\n",
       "      <td>-0.743297</td>\n",
       "      <td>-0.050969</td>\n",
       "      <td>0.000000</td>\n",
       "    </tr>\n",
       "    <tr>\n",
       "      <th>25%</th>\n",
       "      <td>-0.079776</td>\n",
       "      <td>-0.055604</td>\n",
       "      <td>-0.516971</td>\n",
       "      <td>-0.192306</td>\n",
       "      <td>0.006798</td>\n",
       "      <td>-0.016047</td>\n",
       "      <td>-0.008018</td>\n",
       "      <td>-0.445667</td>\n",
       "      <td>-0.388184</td>\n",
       "      <td>-0.068584</td>\n",
       "      <td>...</td>\n",
       "      <td>0.009315</td>\n",
       "      <td>0.003199</td>\n",
       "      <td>-0.010766</td>\n",
       "      <td>-0.022740</td>\n",
       "      <td>-0.043418</td>\n",
       "      <td>-0.221237</td>\n",
       "      <td>-0.016847</td>\n",
       "      <td>-0.371384</td>\n",
       "      <td>-0.041603</td>\n",
       "      <td>0.000000</td>\n",
       "    </tr>\n",
       "    <tr>\n",
       "      <th>50%</th>\n",
       "      <td>-0.019204</td>\n",
       "      <td>0.000246</td>\n",
       "      <td>0.003186</td>\n",
       "      <td>-0.117972</td>\n",
       "      <td>0.007302</td>\n",
       "      <td>-0.016047</td>\n",
       "      <td>0.004280</td>\n",
       "      <td>-0.260150</td>\n",
       "      <td>-0.307842</td>\n",
       "      <td>0.000253</td>\n",
       "      <td>...</td>\n",
       "      <td>0.009838</td>\n",
       "      <td>0.010013</td>\n",
       "      <td>-0.009924</td>\n",
       "      <td>-0.020438</td>\n",
       "      <td>-0.039928</td>\n",
       "      <td>-0.139653</td>\n",
       "      <td>-0.013821</td>\n",
       "      <td>-0.180311</td>\n",
       "      <td>-0.034319</td>\n",
       "      <td>0.000000</td>\n",
       "    </tr>\n",
       "    <tr>\n",
       "      <th>75%</th>\n",
       "      <td>0.081218</td>\n",
       "      <td>0.056957</td>\n",
       "      <td>0.585722</td>\n",
       "      <td>0.022705</td>\n",
       "      <td>0.007753</td>\n",
       "      <td>0.016026</td>\n",
       "      <td>0.024222</td>\n",
       "      <td>0.098874</td>\n",
       "      <td>0.156638</td>\n",
       "      <td>0.070036</td>\n",
       "      <td>...</td>\n",
       "      <td>0.010693</td>\n",
       "      <td>0.019900</td>\n",
       "      <td>-0.009416</td>\n",
       "      <td>-0.014401</td>\n",
       "      <td>-0.031820</td>\n",
       "      <td>-0.002210</td>\n",
       "      <td>-0.009476</td>\n",
       "      <td>0.133244</td>\n",
       "      <td>-0.020507</td>\n",
       "      <td>0.000000</td>\n",
       "    </tr>\n",
       "    <tr>\n",
       "      <th>max</th>\n",
       "      <td>137.557872</td>\n",
       "      <td>2.004925</td>\n",
       "      <td>3.324327</td>\n",
       "      <td>60.825460</td>\n",
       "      <td>11.556238</td>\n",
       "      <td>121.354736</td>\n",
       "      <td>0.623095</td>\n",
       "      <td>47.504463</td>\n",
       "      <td>62.936396</td>\n",
       "      <td>140.123299</td>\n",
       "      <td>...</td>\n",
       "      <td>0.036727</td>\n",
       "      <td>37.405312</td>\n",
       "      <td>2.551674</td>\n",
       "      <td>27.969785</td>\n",
       "      <td>117.341069</td>\n",
       "      <td>59.139158</td>\n",
       "      <td>23.970250</td>\n",
       "      <td>62.527240</td>\n",
       "      <td>90.774695</td>\n",
       "      <td>1.000000</td>\n",
       "    </tr>\n",
       "  </tbody>\n",
       "</table>\n",
       "<p>8 rows × 65 columns</p>\n",
       "</div>"
      ],
      "text/plain": [
       "              Attr1         Attr2         Attr3         Attr4         Attr5  \\\n",
       "count  10000.000000  10000.000000  10000.000000  10000.000000  10000.000000   \n",
       "mean       0.007954     -0.007140     -0.003544      0.005005     -0.004687   \n",
       "std        1.396405      1.409440      1.015494      0.908020      1.394750   \n",
       "min       -9.474787   -140.604555    -25.597146     -0.381641   -138.720013   \n",
       "25%       -0.079776     -0.055604     -0.516971     -0.192306      0.006798   \n",
       "50%       -0.019204      0.000246      0.003186     -0.117972      0.007302   \n",
       "75%        0.081218      0.056957      0.585722      0.022705      0.007753   \n",
       "max      137.557872      2.004925      3.324327     60.825460     11.556238   \n",
       "\n",
       "              Attr6         Attr7         Attr8         Attr9        Attr10  \\\n",
       "count  10000.000000  10000.000000  10000.000000  10000.000000  10000.000000   \n",
       "mean       0.001455     -0.006963      0.009053      0.006763      0.007456   \n",
       "std        1.286713      1.412509      1.064426      1.171199      1.407349   \n",
       "min      -26.249562   -141.176615     -0.966015     -1.294340     -2.528495   \n",
       "25%       -0.016047     -0.008018     -0.445667     -0.388184     -0.068584   \n",
       "50%       -0.016047      0.004280     -0.260150     -0.307842      0.000253   \n",
       "75%        0.016026      0.024222      0.098874      0.156638      0.070036   \n",
       "max      121.354736      0.623095     47.504463     62.936396    140.123299   \n",
       "\n",
       "       ...        Attr56        Attr57        Attr58        Attr59  \\\n",
       "count  ...  10000.000000  10000.000000  10000.000000  10000.000000   \n",
       "mean   ...      0.009804      0.005208     -0.009751     -0.002655   \n",
       "std    ...      0.017370      0.718682      0.026124      0.467139   \n",
       "min    ...     -1.657288    -42.381245     -0.037484     -3.218490   \n",
       "25%    ...      0.009315      0.003199     -0.010766     -0.022740   \n",
       "50%    ...      0.009838      0.010013     -0.009924     -0.020438   \n",
       "75%    ...      0.010693      0.019900     -0.009416     -0.014401   \n",
       "max    ...      0.036727     37.405312      2.551674     27.969785   \n",
       "\n",
       "             Attr60        Attr61        Attr62        Attr63        Attr64  \\\n",
       "count  10000.000000  10000.000000  10000.000000  10000.000000  10000.000000   \n",
       "mean       0.004548      0.014331     -0.006864      0.020750     -0.003984   \n",
       "std        1.252571      1.171160      0.277288      1.115182      0.930875   \n",
       "min       -0.048598     -0.412525     -0.022204     -0.743297     -0.050969   \n",
       "25%       -0.043418     -0.221237     -0.016847     -0.371384     -0.041603   \n",
       "50%       -0.039928     -0.139653     -0.013821     -0.180311     -0.034319   \n",
       "75%       -0.031820     -0.002210     -0.009476      0.133244     -0.020507   \n",
       "max      117.341069     59.139158     23.970250     62.527240     90.774695   \n",
       "\n",
       "              class  \n",
       "count  10000.000000  \n",
       "mean       0.020300  \n",
       "std        0.141032  \n",
       "min        0.000000  \n",
       "25%        0.000000  \n",
       "50%        0.000000  \n",
       "75%        0.000000  \n",
       "max        1.000000  \n",
       "\n",
       "[8 rows x 65 columns]"
      ]
     },
     "execution_count": 5,
     "metadata": {},
     "output_type": "execute_result"
    }
   ],
   "source": [
    "data.describe()"
   ]
  },
  {
   "cell_type": "code",
   "execution_count": 6,
   "id": "considered-watson",
   "metadata": {},
   "outputs": [
    {
     "data": {
      "text/plain": [
       "array([0, 1])"
      ]
     },
     "execution_count": 6,
     "metadata": {},
     "output_type": "execute_result"
    }
   ],
   "source": [
    "data['class'].unique()"
   ]
  },
  {
   "cell_type": "code",
   "execution_count": 7,
   "id": "african-mouth",
   "metadata": {},
   "outputs": [
    {
     "data": {
      "text/plain": [
       "False"
      ]
     },
     "execution_count": 7,
     "metadata": {},
     "output_type": "execute_result"
    }
   ],
   "source": [
    "# Checking for null values\n",
    "data.isnull().values.any()\n"
   ]
  },
  {
   "cell_type": "code",
   "execution_count": 8,
   "id": "different-inflation",
   "metadata": {},
   "outputs": [],
   "source": [
    "data.rename(columns={'class':'target'}, inplace=True)"
   ]
  },
  {
   "cell_type": "code",
   "execution_count": 9,
   "id": "continuing-rugby",
   "metadata": {},
   "outputs": [],
   "source": [
    "# For features in h2o model\n",
    "cont_names = data.columns[:-1]"
   ]
  },
  {
   "cell_type": "code",
   "execution_count": 11,
   "id": "fitted-sight",
   "metadata": {},
   "outputs": [],
   "source": [
    "#Setting up desired output and features for logistic regression and xgboost models\n",
    "output = data[data.columns[-1]]\n",
    "features = data[data.columns[:(data.shape[1]-1)]]  #data[cont_names]  #data[data.columns[:-1]]"
   ]
  },
  {
   "cell_type": "code",
   "execution_count": 46,
   "id": "expected-portable",
   "metadata": {},
   "outputs": [],
   "source": [
    "#splits data into X (features) and y (predictions)\n",
    "X_train, X_test, y_train, y_test = train_test_split(features, output, \n",
    "                                                    test_size=0.2, random_state=42)\n",
    "\n",
    "train = pd.concat([X_train, y_train], 1)\n",
    "test = pd.concat([X_test, y_test], 1)"
   ]
  },
  {
   "cell_type": "markdown",
   "id": "saving-struggle",
   "metadata": {},
   "source": [
    "### model application"
   ]
  },
  {
   "cell_type": "code",
   "execution_count": 52,
   "id": "special-midwest",
   "metadata": {},
   "outputs": [
    {
     "data": {
      "text/plain": [
       "RandomForestClassifier()"
      ]
     },
     "execution_count": 52,
     "metadata": {},
     "output_type": "execute_result"
    }
   ],
   "source": [
    "from sklearn.ensemble import RandomForestClassifier\n",
    "# random forest model creation\n",
    "rfc = RandomForestClassifier()\n",
    "rfc.fit(X_train,y_train)"
   ]
  },
  {
   "cell_type": "code",
   "execution_count": 53,
   "id": "moving-dining",
   "metadata": {},
   "outputs": [
    {
     "name": "stdout",
     "output_type": "stream",
     "text": [
      "Train score: 1.000\n",
      "Test score: 0.980\n"
     ]
    }
   ],
   "source": [
    "#training score\n",
    "print(\"Train score: %0.3f\" % rfc.score(X_train, y_train))\n",
    "print(\"Test score: %0.3f\" % rfc.score(X_test, y_test))"
   ]
  },
  {
   "cell_type": "code",
   "execution_count": 54,
   "id": "coastal-plant",
   "metadata": {},
   "outputs": [
    {
     "data": {
      "text/plain": [
       "array([0, 0, 0, ..., 0, 0, 0])"
      ]
     },
     "execution_count": 54,
     "metadata": {},
     "output_type": "execute_result"
    }
   ],
   "source": [
    "# predictions\n",
    "y_pred = rfc.predict(X_test)\n",
    "y_pred"
   ]
  },
  {
   "cell_type": "code",
   "execution_count": 67,
   "id": "contemporary-thanksgiving",
   "metadata": {},
   "outputs": [
    {
     "data": {
      "text/plain": [
       "<Figure size 432x288 with 0 Axes>"
      ]
     },
     "metadata": {},
     "output_type": "display_data"
    }
   ],
   "source": [
    "plt.figure()\n",
    "# Add the models to the list that you want to view on the ROC plot\n",
    "models = [   \n",
    "{\n",
    "    'label': 'Logistic Regression',\n",
    "    'model': LogisticRegression(class_weight='balanced'),\n",
    "},\n",
    "{\n",
    "    'label': 'XGBoost Classifier',\n",
    "    'model': XGBClassifier(max_depth=10, n_estimators=300, use_label_encoder=False),\n",
    "  # 'model': GradientBoostingClassifier(n_estimators=300,max_depth=10)\n",
    "}\n",
    "]"
   ]
  },
  {
   "cell_type": "code",
   "execution_count": 70,
   "id": "balanced-discussion",
   "metadata": {},
   "outputs": [
    {
     "name": "stdout",
     "output_type": "stream",
     "text": [
      "[23:58:33] WARNING: /opt/concourse/worker/volumes/live/7a2b9f41-3287-451b-6691-43e9a6c0910f/volume/xgboost-split_1619728204606/work/src/learner.cc:1061: Starting in XGBoost 1.3.0, the default evaluation metric used with the objective 'binary:logistic' was changed from 'error' to 'logloss'. Explicitly set eval_metric if you'd like to restore the old behavior.\n"
     ]
    },
    {
     "data": {
      "image/png": "[encoded data removed]",
      "text/plain": [
       "<Figure size 432x288 with 1 Axes>"
      ]
     },
     "metadata": {
      "needs_background": "light"
     },
     "output_type": "display_data"
    }
   ],
   "source": [
    "# Below for loop iterates through your models list\n",
    "for m in models:\n",
    "    model = m['model'] # select the model\n",
    "    model.fit(X_train, y_train) # train the model\n",
    "    y_pred=model.predict(X_test) # predict the test data\n",
    "# Compute False postive rate, and True positive rate\n",
    "    fpr, tpr, thresholds = roc_curve(y_test, model.predict_proba(X_test)[:,1])\n",
    "# Calculate Area under the curve to display on the plot\n",
    "    auc = roc_auc_score(y_test,model.predict(X_test))\n",
    "# Now, plot the computed values\n",
    "    plt.plot(fpr, tpr, label='%s ROC (area = %0.2f)' % (m['label'], auc))"
   ]
  },
  {
   "cell_type": "code",
   "execution_count": 71,
   "id": "pursuant-stone",
   "metadata": {},
   "outputs": [
    {
     "data": {
      "text/plain": [
       "0.98"
      ]
     },
     "execution_count": 71,
     "metadata": {},
     "output_type": "execute_result"
    }
   ],
   "source": [
    "clf = GradientBoostingClassifier(n_estimators=100, learning_rate=1.0,\n",
    "     max_depth=1, random_state=0)\n",
    "clf.fit(X_train, y_train)\n",
    "clf.score(X_test, y_test)"
   ]
  },
  {
   "cell_type": "code",
   "execution_count": 72,
   "id": "honey-replica",
   "metadata": {},
   "outputs": [],
   "source": [
    "y_predict = clf.predict(X_test)"
   ]
  },
  {
   "cell_type": "code",
   "execution_count": 73,
   "id": "automated-fifteen",
   "metadata": {},
   "outputs": [
    {
     "data": {
      "text/plain": [
       "array([0, 0, 0, ..., 0, 0, 0])"
      ]
     },
     "execution_count": 73,
     "metadata": {},
     "output_type": "execute_result"
    }
   ],
   "source": [
    "y_predict"
   ]
  },
  {
   "cell_type": "code",
   "execution_count": 74,
   "id": "duplicate-foster",
   "metadata": {},
   "outputs": [
    {
     "data": {
      "text/plain": [
       "0.1414213562373095"
      ]
     },
     "execution_count": 74,
     "metadata": {},
     "output_type": "execute_result"
    }
   ],
   "source": [
    "from sklearn.metrics import mean_squared_error\n",
    "\n",
    "mean_squared_error(y_test, y_predict)**(0.5)"
   ]
  },
  {
   "cell_type": "markdown",
   "id": "protecting-patent",
   "metadata": {},
   "source": [
    "### feature importance"
   ]
  },
  {
   "cell_type": "code",
   "execution_count": 75,
   "id": "charitable-granny",
   "metadata": {},
   "outputs": [],
   "source": [
    "import shap\n",
    "\n",
    "explainer = shap.TreeExplainer(clf)\n",
    "shap_values = explainer.shap_values(X_train)"
   ]
  },
  {
   "cell_type": "code",
   "execution_count": 76,
   "id": "arabic-enlargement",
   "metadata": {},
   "outputs": [
    {
     "data": {
      "text/plain": [
       "array([[ 0.03785839, -0.13097837,  0.        , ..., -0.05304892,\n",
       "         0.        ,  0.02831878],\n",
       "       [ 0.03785839,  0.25905858,  0.        , ...,  0.69280579,\n",
       "         0.        ,  0.02831878],\n",
       "       [ 0.03785839,  0.25905858,  0.        , ..., -0.05304892,\n",
       "         0.        ,  0.02831878],\n",
       "       ...,\n",
       "       [ 0.03785839,  0.25905858,  0.        , ..., -0.05304892,\n",
       "         0.        ,  0.02831878],\n",
       "       [ 0.03785839,  0.25905858,  0.        , ..., -0.05304892,\n",
       "         0.        ,  0.02831878],\n",
       "       [ 0.03785839, -0.13097837,  0.        , ..., -0.05304892,\n",
       "         0.        ,  0.02831878]])"
      ]
     },
     "execution_count": 76,
     "metadata": {},
     "output_type": "execute_result"
    }
   ],
   "source": [
    "shap_values"
   ]
  },
  {
   "cell_type": "code",
   "execution_count": 77,
   "id": "continuous-arrangement",
   "metadata": {},
   "outputs": [
    {
     "data": {
      "image/png": "[encoded data removed]",
      "text/plain": [
       "<Figure size 432x288 with 4 Axes>"
      ]
     },
     "metadata": {
      "needs_background": "light"
     },
     "output_type": "display_data"
    }
   ],
   "source": [
    "shap.partial_dependence_plot(\"Attr34\", \n",
    "                             model.predict, X_train,\n",
    "                             model_expected_value=True, \n",
    "                             feature_expected_value=True)"
   ]
  },
  {
   "cell_type": "markdown",
   "id": "verbal-flower",
   "metadata": {},
   "source": [
    "shap.plots.partial_dependence(\"Attr34\", \n",
    "                             model.predict, X_train,\n",
    "                             model_expected_value=True, \n",
    "                             feature_expected_value=True)"
   ]
  },
  {
   "cell_type": "markdown",
   "id": "recovered-reality",
   "metadata": {},
   "source": [
    "#the waterfall_plot shows how we get from explainer.expected_value to model.predict(X)[sample_ind]\n",
    "shap.waterfall_plot(explainer.expected_value, \n",
    "                    shap_values[sample_ind], \n",
    "                    X.iloc[sample_ind], \n",
    "                    max_display=14)"
   ]
  },
  {
   "cell_type": "markdown",
   "id": "julian-cambodia",
   "metadata": {},
   "source": [
    "shap.force_plot(explainer.expected_value, \n",
    "                shap_values, \n",
    "                features=X_train, \n",
    "                feature_names=X_train.columns)"
   ]
  },
  {
   "cell_type": "code",
   "execution_count": 78,
   "id": "finished-explorer",
   "metadata": {},
   "outputs": [
    {
     "data": {
      "image/png": "[encoded data removed]",
      "text/plain": [
       "<Figure size 576x684 with 2 Axes>"
      ]
     },
     "metadata": {
      "needs_background": "light"
     },
     "output_type": "display_data"
    }
   ],
   "source": [
    "shap.summary_plot(shap_values, \n",
    "                  features=X_train, \n",
    "                  feature_names=X_train.columns)"
   ]
  },
  {
   "cell_type": "markdown",
   "id": "stock-america",
   "metadata": {},
   "source": [
    "shap.summary_plot(shap_values, \n",
    "                  features=X_train, plot_type='dot', \n",
    "                  max_display=X_train.columns.shape[0],\n",
    "                  feature_names=X_train.columns)"
   ]
  },
  {
   "cell_type": "code",
   "execution_count": 80,
   "id": "collect-supply",
   "metadata": {},
   "outputs": [
    {
     "data": {
      "text/plain": [
       "array([ 3.78583941e-02, -1.30978369e-01,  0.00000000e+00,  4.99117155e-03,\n",
       "        1.69974750e-01,  0.00000000e+00,  0.00000000e+00,  0.00000000e+00,\n",
       "       -8.87315698e-02, -2.76685421e-03,  0.00000000e+00,  4.21089500e-02,\n",
       "       -4.35188251e-01,  0.00000000e+00,  3.72797612e-02,  0.00000000e+00,\n",
       "        4.90409224e-02,  0.00000000e+00,  0.00000000e+00,  0.00000000e+00,\n",
       "       -1.02774103e-01,  4.95934201e-03, -1.11499826e-01,  4.20590081e-01,\n",
       "       -1.18292733e-01, -1.12184081e+00,  1.03743553e-02,  0.00000000e+00,\n",
       "        1.07443958e-01,  0.00000000e+00,  0.00000000e+00, -2.95993668e-02,\n",
       "        0.00000000e+00, -1.69305046e-01,  1.12534403e-03,  0.00000000e+00,\n",
       "        5.44660761e-02,  2.31753338e-02, -2.63744156e-01, -9.52240348e-03,\n",
       "        5.11271962e-02,  2.91126128e-02,  0.00000000e+00,  0.00000000e+00,\n",
       "        4.47642790e-02, -8.21966948e-02,  0.00000000e+00,  0.00000000e+00,\n",
       "        2.09734365e-01, -5.29529477e-04,  7.82661988e-02,  1.72631544e-02,\n",
       "        4.46141758e-02,  3.66213991e-01,  0.00000000e+00,  1.58355747e-02,\n",
       "       -3.74672602e-02,  3.47625446e-01,  0.00000000e+00,  0.00000000e+00,\n",
       "        3.90922532e-03, -5.30489158e-02,  0.00000000e+00,  2.83187787e-02])"
      ]
     },
     "execution_count": 80,
     "metadata": {},
     "output_type": "execute_result"
    }
   ],
   "source": [
    "shap_values[10]"
   ]
  },
  {
   "cell_type": "code",
   "execution_count": null,
   "id": "hourly-irish",
   "metadata": {},
   "outputs": [],
   "source": []
  }
 ],
 "metadata": {
  "kernelspec": {
   "display_name": "Python 3",
   "language": "python",
   "name": "python3"
  },
  "language_info": {
   "codemirror_mode": {
    "name": "ipython",
    "version": 3
   },
   "file_extension": ".py",
   "mimetype": "text/x-python",
   "name": "python",
   "nbconvert_exporter": "python",
   "pygments_lexer": "ipython3",
   "version": "3.7.0"
  }
 },
 "nbformat": 4,
 "nbformat_minor": 5
}
