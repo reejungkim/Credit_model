{
 "cells": [
  {
   "cell_type": "markdown",
   "id": "instrumental-rally",
   "metadata": {},
   "source": [
    "https://towardsdatascience.com/streamline-model-tuning-on-bankruptcy-predictions-aabbc2fe62c0"
   ]
  },
  {
   "cell_type": "code",
   "execution_count": 2,
   "id": "periodic-train",
   "metadata": {},
   "outputs": [],
   "source": [
    "import warnings\n",
    "warnings.filterwarnings(\"ignore\")\n",
    "\n",
    "# Load up packages\n",
    "import pandas as pd\n",
    "import numpy as np\n",
    "import matplotlib.pyplot as plt\n",
    "%matplotlib inline\n",
    "\n",
    "\n",
    "from sklearn.model_selection import train_test_split\n",
    "from sklearn.metrics import roc_curve, auc, roc_auc_score\n",
    "#import h2o\n",
    "#from h2o.automl import H2OAutoML\n"
   ]
  },
  {
   "cell_type": "code",
   "execution_count": 20,
   "id": "skilled-wisdom",
   "metadata": {},
   "outputs": [],
   "source": [
    "from sklearn.ensemble import RandomForestClassifier\n",
    "from sklearn.ensemble import GradientBoostingClassifier\n",
    "#from xgboost import XGBClassifier\n",
    "\n",
    "from lightgbm import LGBMClassifier\n",
    "from xgboost import XGBClassifier"
   ]
  },
  {
   "cell_type": "code",
   "execution_count": 3,
   "id": "involved-february",
   "metadata": {},
   "outputs": [],
   "source": [
    "# Load data\n",
    "data = pd.read_csv('/Users/reejungkim/Documents/Git/companies-bankruptcy-forecast/bankruptcy_Train.csv')"
   ]
  },
  {
   "cell_type": "code",
   "execution_count": 4,
   "id": "instructional-device",
   "metadata": {},
   "outputs": [
    {
     "data": {
      "text/html": [
       "<div>\n",
       "<style scoped>\n",
       "    .dataframe tbody tr th:only-of-type {\n",
       "        vertical-align: middle;\n",
       "    }\n",
       "\n",
       "    .dataframe tbody tr th {\n",
       "        vertical-align: top;\n",
       "    }\n",
       "\n",
       "    .dataframe thead th {\n",
       "        text-align: right;\n",
       "    }\n",
       "</style>\n",
       "<table border=\"1\" class=\"dataframe\">\n",
       "  <thead>\n",
       "    <tr style=\"text-align: right;\">\n",
       "      <th></th>\n",
       "      <th>Attr1</th>\n",
       "      <th>Attr2</th>\n",
       "      <th>Attr3</th>\n",
       "      <th>Attr4</th>\n",
       "      <th>Attr5</th>\n",
       "      <th>Attr6</th>\n",
       "      <th>Attr7</th>\n",
       "      <th>Attr8</th>\n",
       "      <th>Attr9</th>\n",
       "      <th>Attr10</th>\n",
       "      <th>...</th>\n",
       "      <th>Attr56</th>\n",
       "      <th>Attr57</th>\n",
       "      <th>Attr58</th>\n",
       "      <th>Attr59</th>\n",
       "      <th>Attr60</th>\n",
       "      <th>Attr61</th>\n",
       "      <th>Attr62</th>\n",
       "      <th>Attr63</th>\n",
       "      <th>Attr64</th>\n",
       "      <th>class</th>\n",
       "    </tr>\n",
       "  </thead>\n",
       "  <tbody>\n",
       "    <tr>\n",
       "      <th>0</th>\n",
       "      <td>-0.031545</td>\n",
       "      <td>-0.091313</td>\n",
       "      <td>-0.040269</td>\n",
       "      <td>-0.013529</td>\n",
       "      <td>0.007406</td>\n",
       "      <td>-0.016047</td>\n",
       "      <td>-0.000264</td>\n",
       "      <td>0.641242</td>\n",
       "      <td>-0.748385</td>\n",
       "      <td>0.126789</td>\n",
       "      <td>...</td>\n",
       "      <td>0.014367</td>\n",
       "      <td>0.005457</td>\n",
       "      <td>-0.014143</td>\n",
       "      <td>-0.020924</td>\n",
       "      <td>0.068399</td>\n",
       "      <td>-0.214478</td>\n",
       "      <td>-0.013915</td>\n",
       "      <td>-0.173939</td>\n",
       "      <td>-0.046788</td>\n",
       "      <td>0</td>\n",
       "    </tr>\n",
       "    <tr>\n",
       "      <th>1</th>\n",
       "      <td>-0.231729</td>\n",
       "      <td>-0.049448</td>\n",
       "      <td>0.304381</td>\n",
       "      <td>-0.080975</td>\n",
       "      <td>0.007515</td>\n",
       "      <td>-0.016047</td>\n",
       "      <td>-0.034963</td>\n",
       "      <td>0.074710</td>\n",
       "      <td>0.469815</td>\n",
       "      <td>0.073759</td>\n",
       "      <td>...</td>\n",
       "      <td>0.008492</td>\n",
       "      <td>-0.008385</td>\n",
       "      <td>-0.008666</td>\n",
       "      <td>-0.023095</td>\n",
       "      <td>-0.033498</td>\n",
       "      <td>-0.205796</td>\n",
       "      <td>-0.015174</td>\n",
       "      <td>-0.073056</td>\n",
       "      <td>-0.027236</td>\n",
       "      <td>0</td>\n",
       "    </tr>\n",
       "    <tr>\n",
       "      <th>2</th>\n",
       "      <td>-0.058602</td>\n",
       "      <td>0.065060</td>\n",
       "      <td>-0.488404</td>\n",
       "      <td>-0.189489</td>\n",
       "      <td>0.006572</td>\n",
       "      <td>-0.016047</td>\n",
       "      <td>-0.004954</td>\n",
       "      <td>-0.456287</td>\n",
       "      <td>0.270351</td>\n",
       "      <td>-0.071287</td>\n",
       "      <td>...</td>\n",
       "      <td>0.010819</td>\n",
       "      <td>0.006779</td>\n",
       "      <td>-0.009437</td>\n",
       "      <td>-0.007919</td>\n",
       "      <td>-0.043455</td>\n",
       "      <td>0.019740</td>\n",
       "      <td>-0.011736</td>\n",
       "      <td>-0.291624</td>\n",
       "      <td>-0.033580</td>\n",
       "      <td>0</td>\n",
       "    </tr>\n",
       "    <tr>\n",
       "      <th>3</th>\n",
       "      <td>-0.069376</td>\n",
       "      <td>0.044641</td>\n",
       "      <td>-0.181684</td>\n",
       "      <td>-0.140032</td>\n",
       "      <td>0.007477</td>\n",
       "      <td>-0.010915</td>\n",
       "      <td>-0.005599</td>\n",
       "      <td>-0.462971</td>\n",
       "      <td>-0.286746</td>\n",
       "      <td>-0.085266</td>\n",
       "      <td>...</td>\n",
       "      <td>0.010683</td>\n",
       "      <td>0.005384</td>\n",
       "      <td>-0.010840</td>\n",
       "      <td>0.001381</td>\n",
       "      <td>-0.042828</td>\n",
       "      <td>-0.350519</td>\n",
       "      <td>0.002969</td>\n",
       "      <td>-0.554685</td>\n",
       "      <td>-0.046823</td>\n",
       "      <td>0</td>\n",
       "    </tr>\n",
       "    <tr>\n",
       "      <th>4</th>\n",
       "      <td>0.236424</td>\n",
       "      <td>-0.051912</td>\n",
       "      <td>0.678337</td>\n",
       "      <td>-0.014680</td>\n",
       "      <td>0.007879</td>\n",
       "      <td>-0.016047</td>\n",
       "      <td>0.057418</td>\n",
       "      <td>0.097183</td>\n",
       "      <td>0.423405</td>\n",
       "      <td>0.076880</td>\n",
       "      <td>...</td>\n",
       "      <td>0.010970</td>\n",
       "      <td>0.025295</td>\n",
       "      <td>-0.011056</td>\n",
       "      <td>-0.022535</td>\n",
       "      <td>-0.035892</td>\n",
       "      <td>-0.181557</td>\n",
       "      <td>-0.015623</td>\n",
       "      <td>-0.027841</td>\n",
       "      <td>-0.023694</td>\n",
       "      <td>0</td>\n",
       "    </tr>\n",
       "  </tbody>\n",
       "</table>\n",
       "<p>5 rows × 65 columns</p>\n",
       "</div>"
      ],
      "text/plain": [
       "      Attr1     Attr2     Attr3     Attr4     Attr5     Attr6     Attr7  \\\n",
       "0 -0.031545 -0.091313 -0.040269 -0.013529  0.007406 -0.016047 -0.000264   \n",
       "1 -0.231729 -0.049448  0.304381 -0.080975  0.007515 -0.016047 -0.034963   \n",
       "2 -0.058602  0.065060 -0.488404 -0.189489  0.006572 -0.016047 -0.004954   \n",
       "3 -0.069376  0.044641 -0.181684 -0.140032  0.007477 -0.010915 -0.005599   \n",
       "4  0.236424 -0.051912  0.678337 -0.014680  0.007879 -0.016047  0.057418   \n",
       "\n",
       "      Attr8     Attr9    Attr10  ...    Attr56    Attr57    Attr58    Attr59  \\\n",
       "0  0.641242 -0.748385  0.126789  ...  0.014367  0.005457 -0.014143 -0.020924   \n",
       "1  0.074710  0.469815  0.073759  ...  0.008492 -0.008385 -0.008666 -0.023095   \n",
       "2 -0.456287  0.270351 -0.071287  ...  0.010819  0.006779 -0.009437 -0.007919   \n",
       "3 -0.462971 -0.286746 -0.085266  ...  0.010683  0.005384 -0.010840  0.001381   \n",
       "4  0.097183  0.423405  0.076880  ...  0.010970  0.025295 -0.011056 -0.022535   \n",
       "\n",
       "     Attr60    Attr61    Attr62    Attr63    Attr64  class  \n",
       "0  0.068399 -0.214478 -0.013915 -0.173939 -0.046788      0  \n",
       "1 -0.033498 -0.205796 -0.015174 -0.073056 -0.027236      0  \n",
       "2 -0.043455  0.019740 -0.011736 -0.291624 -0.033580      0  \n",
       "3 -0.042828 -0.350519  0.002969 -0.554685 -0.046823      0  \n",
       "4 -0.035892 -0.181557 -0.015623 -0.027841 -0.023694      0  \n",
       "\n",
       "[5 rows x 65 columns]"
      ]
     },
     "execution_count": 4,
     "metadata": {},
     "output_type": "execute_result"
    }
   ],
   "source": [
    "data.head()"
   ]
  },
  {
   "cell_type": "code",
   "execution_count": 5,
   "id": "electronic-perth",
   "metadata": {},
   "outputs": [
    {
     "data": {
      "text/plain": [
       "array([0, 1])"
      ]
     },
     "execution_count": 5,
     "metadata": {},
     "output_type": "execute_result"
    }
   ],
   "source": [
    "data['class'].unique()"
   ]
  },
  {
   "cell_type": "code",
   "execution_count": 6,
   "id": "quarterly-employer",
   "metadata": {},
   "outputs": [
    {
     "data": {
      "text/html": [
       "<div>\n",
       "<style scoped>\n",
       "    .dataframe tbody tr th:only-of-type {\n",
       "        vertical-align: middle;\n",
       "    }\n",
       "\n",
       "    .dataframe tbody tr th {\n",
       "        vertical-align: top;\n",
       "    }\n",
       "\n",
       "    .dataframe thead th {\n",
       "        text-align: right;\n",
       "    }\n",
       "</style>\n",
       "<table border=\"1\" class=\"dataframe\">\n",
       "  <thead>\n",
       "    <tr style=\"text-align: right;\">\n",
       "      <th></th>\n",
       "      <th>Attr1</th>\n",
       "      <th>Attr2</th>\n",
       "      <th>Attr3</th>\n",
       "      <th>Attr4</th>\n",
       "      <th>Attr5</th>\n",
       "      <th>Attr6</th>\n",
       "      <th>Attr7</th>\n",
       "      <th>Attr8</th>\n",
       "      <th>Attr9</th>\n",
       "      <th>Attr10</th>\n",
       "      <th>...</th>\n",
       "      <th>Attr55</th>\n",
       "      <th>Attr56</th>\n",
       "      <th>Attr57</th>\n",
       "      <th>Attr58</th>\n",
       "      <th>Attr59</th>\n",
       "      <th>Attr60</th>\n",
       "      <th>Attr61</th>\n",
       "      <th>Attr62</th>\n",
       "      <th>Attr63</th>\n",
       "      <th>Attr64</th>\n",
       "    </tr>\n",
       "  </thead>\n",
       "  <tbody>\n",
       "    <tr>\n",
       "      <th>count</th>\n",
       "      <td>10000.000000</td>\n",
       "      <td>10000.000000</td>\n",
       "      <td>10000.000000</td>\n",
       "      <td>10000.000000</td>\n",
       "      <td>10000.000000</td>\n",
       "      <td>10000.000000</td>\n",
       "      <td>10000.000000</td>\n",
       "      <td>10000.000000</td>\n",
       "      <td>10000.000000</td>\n",
       "      <td>10000.000000</td>\n",
       "      <td>...</td>\n",
       "      <td>10000.000000</td>\n",
       "      <td>10000.000000</td>\n",
       "      <td>10000.000000</td>\n",
       "      <td>10000.000000</td>\n",
       "      <td>10000.000000</td>\n",
       "      <td>10000.000000</td>\n",
       "      <td>10000.000000</td>\n",
       "      <td>10000.000000</td>\n",
       "      <td>10000.000000</td>\n",
       "      <td>10000.000000</td>\n",
       "    </tr>\n",
       "    <tr>\n",
       "      <th>mean</th>\n",
       "      <td>0.007954</td>\n",
       "      <td>-0.007140</td>\n",
       "      <td>-0.003544</td>\n",
       "      <td>0.005005</td>\n",
       "      <td>-0.004687</td>\n",
       "      <td>0.001455</td>\n",
       "      <td>-0.006963</td>\n",
       "      <td>0.009053</td>\n",
       "      <td>0.006763</td>\n",
       "      <td>0.007456</td>\n",
       "      <td>...</td>\n",
       "      <td>-0.008807</td>\n",
       "      <td>0.009804</td>\n",
       "      <td>0.005208</td>\n",
       "      <td>-0.009751</td>\n",
       "      <td>-0.002655</td>\n",
       "      <td>0.004548</td>\n",
       "      <td>0.014331</td>\n",
       "      <td>-0.006864</td>\n",
       "      <td>0.020750</td>\n",
       "      <td>-0.003984</td>\n",
       "    </tr>\n",
       "    <tr>\n",
       "      <th>std</th>\n",
       "      <td>1.396405</td>\n",
       "      <td>1.409440</td>\n",
       "      <td>1.015494</td>\n",
       "      <td>0.908020</td>\n",
       "      <td>1.394750</td>\n",
       "      <td>1.286713</td>\n",
       "      <td>1.412509</td>\n",
       "      <td>1.064426</td>\n",
       "      <td>1.171199</td>\n",
       "      <td>1.407349</td>\n",
       "      <td>...</td>\n",
       "      <td>0.818791</td>\n",
       "      <td>0.017370</td>\n",
       "      <td>0.718682</td>\n",
       "      <td>0.026124</td>\n",
       "      <td>0.467139</td>\n",
       "      <td>1.252571</td>\n",
       "      <td>1.171160</td>\n",
       "      <td>0.277288</td>\n",
       "      <td>1.115182</td>\n",
       "      <td>0.930875</td>\n",
       "    </tr>\n",
       "    <tr>\n",
       "      <th>min</th>\n",
       "      <td>-9.474787</td>\n",
       "      <td>-140.604555</td>\n",
       "      <td>-25.597146</td>\n",
       "      <td>-0.381641</td>\n",
       "      <td>-138.720013</td>\n",
       "      <td>-26.249562</td>\n",
       "      <td>-141.176615</td>\n",
       "      <td>-0.966015</td>\n",
       "      <td>-1.294340</td>\n",
       "      <td>-2.528495</td>\n",
       "      <td>...</td>\n",
       "      <td>-19.007973</td>\n",
       "      <td>-1.657288</td>\n",
       "      <td>-42.381245</td>\n",
       "      <td>-0.037484</td>\n",
       "      <td>-3.218490</td>\n",
       "      <td>-0.048598</td>\n",
       "      <td>-0.412525</td>\n",
       "      <td>-0.022204</td>\n",
       "      <td>-0.743297</td>\n",
       "      <td>-0.050969</td>\n",
       "    </tr>\n",
       "    <tr>\n",
       "      <th>25%</th>\n",
       "      <td>-0.079776</td>\n",
       "      <td>-0.055604</td>\n",
       "      <td>-0.516971</td>\n",
       "      <td>-0.192306</td>\n",
       "      <td>0.006798</td>\n",
       "      <td>-0.016047</td>\n",
       "      <td>-0.008018</td>\n",
       "      <td>-0.445667</td>\n",
       "      <td>-0.388184</td>\n",
       "      <td>-0.068584</td>\n",
       "      <td>...</td>\n",
       "      <td>-0.127228</td>\n",
       "      <td>0.009315</td>\n",
       "      <td>0.003199</td>\n",
       "      <td>-0.010766</td>\n",
       "      <td>-0.022740</td>\n",
       "      <td>-0.043418</td>\n",
       "      <td>-0.221237</td>\n",
       "      <td>-0.016847</td>\n",
       "      <td>-0.371384</td>\n",
       "      <td>-0.041603</td>\n",
       "    </tr>\n",
       "    <tr>\n",
       "      <th>50%</th>\n",
       "      <td>-0.019204</td>\n",
       "      <td>0.000246</td>\n",
       "      <td>0.003186</td>\n",
       "      <td>-0.117972</td>\n",
       "      <td>0.007302</td>\n",
       "      <td>-0.016047</td>\n",
       "      <td>0.004280</td>\n",
       "      <td>-0.260150</td>\n",
       "      <td>-0.307842</td>\n",
       "      <td>0.000253</td>\n",
       "      <td>...</td>\n",
       "      <td>-0.101706</td>\n",
       "      <td>0.009838</td>\n",
       "      <td>0.010013</td>\n",
       "      <td>-0.009924</td>\n",
       "      <td>-0.020438</td>\n",
       "      <td>-0.039928</td>\n",
       "      <td>-0.139653</td>\n",
       "      <td>-0.013821</td>\n",
       "      <td>-0.180311</td>\n",
       "      <td>-0.034319</td>\n",
       "    </tr>\n",
       "    <tr>\n",
       "      <th>75%</th>\n",
       "      <td>0.081218</td>\n",
       "      <td>0.056957</td>\n",
       "      <td>0.585722</td>\n",
       "      <td>0.022705</td>\n",
       "      <td>0.007753</td>\n",
       "      <td>0.016026</td>\n",
       "      <td>0.024222</td>\n",
       "      <td>0.098874</td>\n",
       "      <td>0.156638</td>\n",
       "      <td>0.070036</td>\n",
       "      <td>...</td>\n",
       "      <td>-0.021740</td>\n",
       "      <td>0.010693</td>\n",
       "      <td>0.019900</td>\n",
       "      <td>-0.009416</td>\n",
       "      <td>-0.014401</td>\n",
       "      <td>-0.031820</td>\n",
       "      <td>-0.002210</td>\n",
       "      <td>-0.009476</td>\n",
       "      <td>0.133244</td>\n",
       "      <td>-0.020507</td>\n",
       "    </tr>\n",
       "    <tr>\n",
       "      <th>max</th>\n",
       "      <td>137.557872</td>\n",
       "      <td>2.004925</td>\n",
       "      <td>3.324327</td>\n",
       "      <td>60.825460</td>\n",
       "      <td>11.556238</td>\n",
       "      <td>121.354736</td>\n",
       "      <td>0.623095</td>\n",
       "      <td>47.504463</td>\n",
       "      <td>62.936396</td>\n",
       "      <td>140.123299</td>\n",
       "      <td>...</td>\n",
       "      <td>22.759195</td>\n",
       "      <td>0.036727</td>\n",
       "      <td>37.405312</td>\n",
       "      <td>2.551674</td>\n",
       "      <td>27.969785</td>\n",
       "      <td>117.341069</td>\n",
       "      <td>59.139158</td>\n",
       "      <td>23.970250</td>\n",
       "      <td>62.527240</td>\n",
       "      <td>90.774695</td>\n",
       "    </tr>\n",
       "  </tbody>\n",
       "</table>\n",
       "<p>8 rows × 64 columns</p>\n",
       "</div>"
      ],
      "text/plain": [
       "              Attr1         Attr2         Attr3         Attr4         Attr5  \\\n",
       "count  10000.000000  10000.000000  10000.000000  10000.000000  10000.000000   \n",
       "mean       0.007954     -0.007140     -0.003544      0.005005     -0.004687   \n",
       "std        1.396405      1.409440      1.015494      0.908020      1.394750   \n",
       "min       -9.474787   -140.604555    -25.597146     -0.381641   -138.720013   \n",
       "25%       -0.079776     -0.055604     -0.516971     -0.192306      0.006798   \n",
       "50%       -0.019204      0.000246      0.003186     -0.117972      0.007302   \n",
       "75%        0.081218      0.056957      0.585722      0.022705      0.007753   \n",
       "max      137.557872      2.004925      3.324327     60.825460     11.556238   \n",
       "\n",
       "              Attr6         Attr7         Attr8         Attr9        Attr10  \\\n",
       "count  10000.000000  10000.000000  10000.000000  10000.000000  10000.000000   \n",
       "mean       0.001455     -0.006963      0.009053      0.006763      0.007456   \n",
       "std        1.286713      1.412509      1.064426      1.171199      1.407349   \n",
       "min      -26.249562   -141.176615     -0.966015     -1.294340     -2.528495   \n",
       "25%       -0.016047     -0.008018     -0.445667     -0.388184     -0.068584   \n",
       "50%       -0.016047      0.004280     -0.260150     -0.307842      0.000253   \n",
       "75%        0.016026      0.024222      0.098874      0.156638      0.070036   \n",
       "max      121.354736      0.623095     47.504463     62.936396    140.123299   \n",
       "\n",
       "       ...        Attr55        Attr56        Attr57        Attr58  \\\n",
       "count  ...  10000.000000  10000.000000  10000.000000  10000.000000   \n",
       "mean   ...     -0.008807      0.009804      0.005208     -0.009751   \n",
       "std    ...      0.818791      0.017370      0.718682      0.026124   \n",
       "min    ...    -19.007973     -1.657288    -42.381245     -0.037484   \n",
       "25%    ...     -0.127228      0.009315      0.003199     -0.010766   \n",
       "50%    ...     -0.101706      0.009838      0.010013     -0.009924   \n",
       "75%    ...     -0.021740      0.010693      0.019900     -0.009416   \n",
       "max    ...     22.759195      0.036727     37.405312      2.551674   \n",
       "\n",
       "             Attr59        Attr60        Attr61        Attr62        Attr63  \\\n",
       "count  10000.000000  10000.000000  10000.000000  10000.000000  10000.000000   \n",
       "mean      -0.002655      0.004548      0.014331     -0.006864      0.020750   \n",
       "std        0.467139      1.252571      1.171160      0.277288      1.115182   \n",
       "min       -3.218490     -0.048598     -0.412525     -0.022204     -0.743297   \n",
       "25%       -0.022740     -0.043418     -0.221237     -0.016847     -0.371384   \n",
       "50%       -0.020438     -0.039928     -0.139653     -0.013821     -0.180311   \n",
       "75%       -0.014401     -0.031820     -0.002210     -0.009476      0.133244   \n",
       "max       27.969785    117.341069     59.139158     23.970250     62.527240   \n",
       "\n",
       "             Attr64  \n",
       "count  10000.000000  \n",
       "mean      -0.003984  \n",
       "std        0.930875  \n",
       "min       -0.050969  \n",
       "25%       -0.041603  \n",
       "50%       -0.034319  \n",
       "75%       -0.020507  \n",
       "max       90.774695  \n",
       "\n",
       "[8 rows x 64 columns]"
      ]
     },
     "execution_count": 6,
     "metadata": {},
     "output_type": "execute_result"
    }
   ],
   "source": [
    "data.loc[:, data.columns!='class'].describe()"
   ]
  },
  {
   "cell_type": "code",
   "execution_count": 8,
   "id": "whole-campbell",
   "metadata": {},
   "outputs": [
    {
     "data": {
      "text/plain": [
       "(10000, 65)"
      ]
     },
     "execution_count": 8,
     "metadata": {},
     "output_type": "execute_result"
    }
   ],
   "source": [
    "data.shape"
   ]
  },
  {
   "cell_type": "code",
   "execution_count": 9,
   "id": "interesting-usage",
   "metadata": {},
   "outputs": [
    {
     "data": {
      "text/plain": [
       "False"
      ]
     },
     "execution_count": 9,
     "metadata": {},
     "output_type": "execute_result"
    }
   ],
   "source": [
    "# Checking for null values\n",
    "data.isnull().values.any()"
   ]
  },
  {
   "cell_type": "code",
   "execution_count": 10,
   "id": "robust-dressing",
   "metadata": {},
   "outputs": [],
   "source": [
    "data.rename(columns={'class':'target'}, inplace=True)"
   ]
  },
  {
   "cell_type": "code",
   "execution_count": 17,
   "id": "skilled-emergency",
   "metadata": {},
   "outputs": [],
   "source": [
    "#Setting up desired output and features for logistic regression and xgboost models\n",
    "#cont_names = data.columns[:-1]\n",
    "output = data.loc[:, data.columns=='target'] #data[data.columns[-1]]\n",
    "#features = data[data.columns[:(data.shape[1]-1)]]  #data[cont_names]  #data[data.columns[:-1]]\n",
    "features = data.loc[:,data.columns!='target']"
   ]
  },
  {
   "cell_type": "code",
   "execution_count": 18,
   "id": "northern-vietnam",
   "metadata": {},
   "outputs": [],
   "source": [
    "#splits data into X (features) and y (predictions)\n",
    "X_train, X_test, y_train, y_test = train_test_split(features, output, \n",
    "                                                    test_size=0.2, \n",
    "                                                    random_state=42)"
   ]
  },
  {
   "cell_type": "markdown",
   "id": "related-silicon",
   "metadata": {},
   "source": [
    "why random_state=42? just bc..\n",
    "https://en.wikipedia.org/wiki/Phrases_from_The_Hitchhiker%27s_Guide_to_the_Galaxy#Answer_to_the_Ultimate_Question_of_Life.2C_the_Universe_and_Everything_.2842.29"
   ]
  },
  {
   "cell_type": "code",
   "execution_count": 19,
   "id": "disciplinary-crack",
   "metadata": {},
   "outputs": [],
   "source": [
    "train = pd.concat([X_train, y_train], 1)\n",
    "test = pd.concat([X_test, y_test], 1)"
   ]
  },
  {
   "cell_type": "markdown",
   "id": "faced-shaft",
   "metadata": {},
   "source": [
    "### model application"
   ]
  },
  {
   "cell_type": "code",
   "execution_count": 21,
   "id": "organized-friendly",
   "metadata": {},
   "outputs": [
    {
     "data": {
      "text/plain": [
       "RandomForestClassifier()"
      ]
     },
     "execution_count": 21,
     "metadata": {},
     "output_type": "execute_result"
    }
   ],
   "source": [
    "# random forest model creation\n",
    "rfc = RandomForestClassifier()\n",
    "rfc.fit(X_train,y_train)"
   ]
  },
  {
   "cell_type": "code",
   "execution_count": 22,
   "id": "geological-intensity",
   "metadata": {},
   "outputs": [
    {
     "name": "stdout",
     "output_type": "stream",
     "text": [
      "Train score: 1.000\n",
      "Test score: 0.980\n"
     ]
    }
   ],
   "source": [
    "#training score\n",
    "print(\"Train score: %0.3f\" % rfc.score(X_train, y_train))\n",
    "print(\"Test score: %0.3f\" % rfc.score(X_test, y_test))"
   ]
  },
  {
   "cell_type": "markdown",
   "id": "informal-teaching",
   "metadata": {},
   "source": [
    "train score is 100% => overfitting!!\n",
    "\n",
    "tuning hyperparameter is needed\n",
    "\n",
    "\n",
    "\n",
    "- n_estimators = number of trees in the foreset\n",
    "\n",
    "- max_features = max number of features considered for splitting a node\n",
    "\n",
    "- max_depth = max number of levels in each decision tree\n",
    "\n",
    "- min_samples_split = min number of data points placed in a node before the node is split\n",
    "\n",
    "- min_samples_leaf = min number of data points allowed in a leaf node\n",
    "\n",
    "- bootstrap = method for sampling data points (with or without replacement)\n"
   ]
  },
  {
   "cell_type": "code",
   "execution_count": 24,
   "id": "dried-guarantee",
   "metadata": {},
   "outputs": [
    {
     "name": "stdout",
     "output_type": "stream",
     "text": [
      "Train score: 0.979\n",
      "Test score: 0.981\n"
     ]
    }
   ],
   "source": [
    "rfc = RandomForestClassifier(random_state=42, \n",
    "                             max_depth=10, \n",
    "                             min_samples_leaf=8)\n",
    "rfc.fit(X_train,y_train)\n",
    "#training score\n",
    "print(\"Train score: %0.3f\" % rfc.score(X_train, y_train))\n",
    "print(\"Test score: %0.3f\" % rfc.score(X_test, y_test))"
   ]
  },
  {
   "cell_type": "markdown",
   "id": "overall-workstation",
   "metadata": {},
   "source": [
    "### optimizing hyperparameters"
   ]
  },
  {
   "cell_type": "code",
   "execution_count": 27,
   "id": "changing-medicine",
   "metadata": {},
   "outputs": [],
   "source": [
    "from sklearn.model_selection import RandomizedSearchCV"
   ]
  },
  {
   "cell_type": "code",
   "execution_count": 25,
   "id": "joint-controversy",
   "metadata": {},
   "outputs": [
    {
     "name": "stdout",
     "output_type": "stream",
     "text": [
      "{'n_estimators': [100], 'max_features': ['sqrt'], 'max_depth': [6, 8, 10], 'min_samples_split': [8, 12, 20], 'min_samples_leaf': [8, 16, 20], 'bootstrap': [True]}\n"
     ]
    }
   ],
   "source": [
    "# Number of trees in random forest\n",
    "n_estimators = [100] #[int(x) for x in np.linspace(start = 500, stop = 1000, num = 3)]\n",
    "# Number of features to consider at every split\n",
    "max_features = ['sqrt'] #['auto', 'sqrt']\n",
    "# Maximum number of levels in tree\n",
    "max_depth = [6, 8 , 10]#[int(x) for x in np.linspace(10, 110, num = 11)]\n",
    "#max_depth.append(None)\n",
    "# Minimum number of samples required to split a node\n",
    "min_samples_split = [8, 12, 20]\n",
    "# Minimum number of samples required at each leaf node\n",
    "min_samples_leaf = [8, 16, 20]\n",
    "# Method of selecting samples for training each tree\n",
    "bootstrap = [True] #[True, False]\n",
    "# Create the random grid\n",
    "random_grid = {'n_estimators': n_estimators,\n",
    "               'max_features': max_features,\n",
    "               'max_depth': max_depth,\n",
    "               'min_samples_split': min_samples_split,\n",
    "               'min_samples_leaf': min_samples_leaf,\n",
    "               'bootstrap': bootstrap}\n",
    "\n",
    "print(random_grid)"
   ]
  },
  {
   "cell_type": "code",
   "execution_count": 28,
   "id": "acoustic-question",
   "metadata": {},
   "outputs": [],
   "source": [
    "# Use the random grid to search for best hyperparameters\n",
    "# First create the base model to tune\n",
    "rf = RandomForestClassifier() #RandomForestRegressor()\n",
    "# Random search of parameters, using 3 fold cross validation, \n",
    "# search across 100 different combinations, and use all available cores\n",
    "rf_random = RandomizedSearchCV(estimator = rf, \n",
    "                               param_distributions = random_grid, \n",
    "                               #n_iter = 5, \n",
    "                               cv = 3, \n",
    "                               verbose=2, \n",
    "                               random_state=42, \n",
    "                               n_jobs = -1)"
   ]
  },
  {
   "cell_type": "code",
   "execution_count": 29,
   "id": "unavailable-swing",
   "metadata": {},
   "outputs": [
    {
     "name": "stdout",
     "output_type": "stream",
     "text": [
      "Fitting 3 folds for each of 10 candidates, totalling 30 fits\n"
     ]
    },
    {
     "name": "stderr",
     "output_type": "stream",
     "text": [
      "[Parallel(n_jobs=-1)]: Using backend LokyBackend with 8 concurrent workers.\n",
      "[Parallel(n_jobs=-1)]: Done  30 out of  30 | elapsed:   11.0s finished\n"
     ]
    },
    {
     "data": {
      "text/plain": [
       "RandomizedSearchCV(cv=3, estimator=RandomForestClassifier(), n_jobs=-1,\n",
       "                   param_distributions={'bootstrap': [True],\n",
       "                                        'max_depth': [6, 8, 10],\n",
       "                                        'max_features': ['sqrt'],\n",
       "                                        'min_samples_leaf': [8, 16, 20],\n",
       "                                        'min_samples_split': [8, 12, 20],\n",
       "                                        'n_estimators': [100]},\n",
       "                   random_state=42, verbose=2)"
      ]
     },
     "execution_count": 29,
     "metadata": {},
     "output_type": "execute_result"
    }
   ],
   "source": [
    "# Fit the random search model\n",
    "rf_random.fit(X_train, y_train)"
   ]
  },
  {
   "cell_type": "code",
   "execution_count": 30,
   "id": "informal-torture",
   "metadata": {},
   "outputs": [
    {
     "data": {
      "text/plain": [
       "{'n_estimators': 100,\n",
       " 'min_samples_split': 20,\n",
       " 'min_samples_leaf': 20,\n",
       " 'max_features': 'sqrt',\n",
       " 'max_depth': 6,\n",
       " 'bootstrap': True}"
      ]
     },
     "execution_count": 30,
     "metadata": {},
     "output_type": "execute_result"
    }
   ],
   "source": [
    "rf_random.best_params_"
   ]
  },
  {
   "cell_type": "code",
   "execution_count": 39,
   "id": "looking-choice",
   "metadata": {},
   "outputs": [],
   "source": [
    "best_grid = rf_random.best_estimator_"
   ]
  },
  {
   "cell_type": "code",
   "execution_count": 43,
   "id": "experimental-expansion",
   "metadata": {},
   "outputs": [
    {
     "data": {
      "text/plain": [
       "RandomForestClassifier(max_depth=6, max_features='sqrt', min_samples_leaf=20,\n",
       "                       min_samples_split=20)"
      ]
     },
     "execution_count": 43,
     "metadata": {},
     "output_type": "execute_result"
    }
   ],
   "source": [
    "best_grid"
   ]
  },
  {
   "cell_type": "code",
   "execution_count": null,
   "id": "naval-theater",
   "metadata": {},
   "outputs": [],
   "source": []
  },
  {
   "cell_type": "code",
   "execution_count": 44,
   "id": "stopped-burst",
   "metadata": {},
   "outputs": [],
   "source": [
    "from sklearn.model_selection import GridSearchCV"
   ]
  },
  {
   "cell_type": "code",
   "execution_count": 48,
   "id": "heated-courtesy",
   "metadata": {},
   "outputs": [],
   "source": [
    "# Create the parameter grid based on the results of random search \n",
    "param_grid = {\n",
    "    'bootstrap': [True],\n",
    "    'max_depth': [5, 7, 10],\n",
    "    'max_features': [2, 3],\n",
    "    'min_samples_leaf':[10, 20, 30],\n",
    "    'min_samples_split': [10, 20],\n",
    "    'n_estimators': [100]\n",
    "}\n",
    "# Create a based model\n",
    "rf = RandomForestClassifier() #RandomForestRegressor()\n",
    "# Instantiate the grid search model\n",
    "rf_grid = GridSearchCV(estimator = rf, \n",
    "                           param_grid = param_grid, \n",
    "                           cv = 3, \n",
    "                           n_jobs = -1, \n",
    "                           verbose = 2)"
   ]
  },
  {
   "cell_type": "code",
   "execution_count": 49,
   "id": "controlling-foundation",
   "metadata": {},
   "outputs": [
    {
     "name": "stdout",
     "output_type": "stream",
     "text": [
      "Fitting 3 folds for each of 36 candidates, totalling 108 fits\n"
     ]
    },
    {
     "name": "stderr",
     "output_type": "stream",
     "text": [
      "[Parallel(n_jobs=-1)]: Using backend LokyBackend with 8 concurrent workers.\n",
      "[Parallel(n_jobs=-1)]: Done  25 tasks      | elapsed:    3.1s\n",
      "[Parallel(n_jobs=-1)]: Done 108 out of 108 | elapsed:   13.6s finished\n"
     ]
    },
    {
     "data": {
      "text/plain": [
       "{'bootstrap': True,\n",
       " 'max_depth': 5,\n",
       " 'max_features': 2,\n",
       " 'min_samples_leaf': 10,\n",
       " 'min_samples_split': 10,\n",
       " 'n_estimators': 100}"
      ]
     },
     "execution_count": 49,
     "metadata": {},
     "output_type": "execute_result"
    }
   ],
   "source": [
    "# Fit the grid search to the data\n",
    "rf_grid.fit(X_train, y_train)\n",
    "rf_grid.best_params_"
   ]
  },
  {
   "cell_type": "code",
   "execution_count": 50,
   "id": "portable-leeds",
   "metadata": {
    "scrolled": true
   },
   "outputs": [],
   "source": [
    "best_grid = rf_grid.best_estimator_"
   ]
  },
  {
   "cell_type": "markdown",
   "id": "least-validation",
   "metadata": {},
   "source": [
    "def evaluate(model, test_features, test_labels):\n",
    "    predictions = model.predict(test_features)\n",
    "    errors = abs(predictions - test_labels)\n",
    "    mape = 100 * np.mean(errors / test_labels)\n",
    "    accuracy = 100 - mape\n",
    "    print('Model Performance')\n",
    "    print('Average Error: {:0.4f} degrees.'.format(np.mean(errors)))\n",
    "    print('Accuracy = {:0.2f}%.'.format(accuracy))\n",
    "    \n",
    "    return accuracy\n",
    "\n",
    "grid_accuracy = evaluate(best_grid, X_test, y_test)\n"
   ]
  },
  {
   "cell_type": "code",
   "execution_count": null,
   "id": "interested-consensus",
   "metadata": {},
   "outputs": [],
   "source": []
  },
  {
   "cell_type": "markdown",
   "id": "legal-million",
   "metadata": {},
   "source": [
    "##### prediction"
   ]
  },
  {
   "cell_type": "code",
   "execution_count": 52,
   "id": "seven-cylinder",
   "metadata": {},
   "outputs": [
    {
     "data": {
      "text/plain": [
       "array([0, 0, 0, ..., 0, 0, 0])"
      ]
     },
     "execution_count": 52,
     "metadata": {},
     "output_type": "execute_result"
    }
   ],
   "source": [
    "#predictions\n",
    "y_pred = rf_grid.predict(X_test)\n",
    "y_pred"
   ]
  },
  {
   "cell_type": "markdown",
   "id": "wrapped-connection",
   "metadata": {},
   "source": [
    "rfc.predict(X_test)"
   ]
  },
  {
   "cell_type": "markdown",
   "id": "hearing-harvest",
   "metadata": {},
   "source": [
    "##### metrics for model evaluation"
   ]
  },
  {
   "cell_type": "code",
   "execution_count": 53,
   "id": "atlantic-calibration",
   "metadata": {},
   "outputs": [
    {
     "data": {
      "text/plain": [
       "array([[1962,    0],\n",
       "       [  38,    0]])"
      ]
     },
     "execution_count": 53,
     "metadata": {},
     "output_type": "execute_result"
    }
   ],
   "source": [
    "from sklearn.metrics import confusion_matrix\n",
    "confusion_matrix(y_test, y_pred)\n"
   ]
  },
  {
   "cell_type": "code",
   "execution_count": 67,
   "id": "opening-radical",
   "metadata": {},
   "outputs": [
    {
     "data": {
      "text/plain": [
       "0.981"
      ]
     },
     "execution_count": 67,
     "metadata": {},
     "output_type": "execute_result"
    }
   ],
   "source": [
    "rf_grid.score(X_test, y_test)"
   ]
  },
  {
   "cell_type": "code",
   "execution_count": 69,
   "id": "complicated-height",
   "metadata": {},
   "outputs": [
    {
     "data": {
      "text/plain": [
       "0.12649110640673517"
      ]
     },
     "execution_count": 69,
     "metadata": {},
     "output_type": "execute_result"
    }
   ],
   "source": [
    "from sklearn.metrics import mean_squared_error\n",
    "mean_squared_error(y_test, y_pred)**(0.5)"
   ]
  },
  {
   "cell_type": "code",
   "execution_count": 54,
   "id": "exact-nancy",
   "metadata": {},
   "outputs": [
    {
     "name": "stdout",
     "output_type": "stream",
     "text": [
      "accuracy:  0.981\n",
      "precision:  0.0\n",
      "recall score:  0.0\n"
     ]
    }
   ],
   "source": [
    "from sklearn.metrics import accuracy_score, precision_score, recall_score\n",
    "\n",
    "print('accuracy: ', accuracy_score(y_test, y_pred))\n",
    "print('precision: ', precision_score(y_test, y_pred))\n",
    "print('recall score: ', recall_score(y_test, y_pred))"
   ]
  },
  {
   "cell_type": "code",
   "execution_count": 55,
   "id": "certain-meter",
   "metadata": {},
   "outputs": [
    {
     "name": "stdout",
     "output_type": "stream",
     "text": [
      "              precision    recall  f1-score   support\n",
      "\n",
      "           0       0.98      1.00      0.99      1962\n",
      "           1       0.00      0.00      0.00        38\n",
      "\n",
      "    accuracy                           0.98      2000\n",
      "   macro avg       0.49      0.50      0.50      2000\n",
      "weighted avg       0.96      0.98      0.97      2000\n",
      "\n"
     ]
    }
   ],
   "source": [
    "from sklearn.metrics import classification_report\n",
    "print(classification_report(y_test, y_pred))"
   ]
  },
  {
   "cell_type": "markdown",
   "id": "after-noise",
   "metadata": {},
   "source": [
    "##### probability for output 0 and 1"
   ]
  },
  {
   "cell_type": "code",
   "execution_count": 56,
   "id": "accepting-nelson",
   "metadata": {},
   "outputs": [
    {
     "data": {
      "text/plain": [
       "array([[0.97388455, 0.02611545],\n",
       "       [0.94489997, 0.05510003],\n",
       "       [0.99550561, 0.00449439],\n",
       "       ...,\n",
       "       [0.99417784, 0.00582216],\n",
       "       [0.97667071, 0.02332929],\n",
       "       [0.97079085, 0.02920915]])"
      ]
     },
     "execution_count": 56,
     "metadata": {},
     "output_type": "execute_result"
    }
   ],
   "source": [
    "grid_search.predict_proba(X_test)"
   ]
  },
  {
   "cell_type": "code",
   "execution_count": 72,
   "id": "solid-ethiopia",
   "metadata": {},
   "outputs": [
    {
     "data": {
      "text/plain": [
       "array([0.0164238 , 0.0500269 , 0.00361999, ..., 0.00515417, 0.0114553 ,\n",
       "       0.02933077])"
      ]
     },
     "execution_count": 72,
     "metadata": {},
     "output_type": "execute_result"
    }
   ],
   "source": [
    "rf_grid.predict_proba(X_test)[:,1]"
   ]
  },
  {
   "cell_type": "markdown",
   "id": "champion-conditioning",
   "metadata": {},
   "source": [
    "clf = GradientBoostingClassifier(n_estimators=100, learning_rate=1.0,\n",
    "     max_depth=1, random_state=0)\n",
    "clf.fit(X_train, y_train)\n",
    "clf.score(X_test, y_test)\n",
    "\n",
    "y_predict = clf.predict(X_test)\n",
    "\n",
    "y_predict\n",
    "\n",
    "mean_squared_error(y_test, y_predict)**(0.5)"
   ]
  },
  {
   "cell_type": "markdown",
   "id": "infinite-lloyd",
   "metadata": {},
   "source": [
    "### Models"
   ]
  },
  {
   "cell_type": "code",
   "execution_count": 73,
   "id": "selected-benjamin",
   "metadata": {},
   "outputs": [
    {
     "data": {
      "text/plain": [
       "<Figure size 432x288 with 0 Axes>"
      ]
     },
     "metadata": {},
     "output_type": "display_data"
    }
   ],
   "source": [
    "plt.figure()\n",
    "# Add the models to the list that you want to view on the ROC plot\n",
    "models = [   \n",
    "{\n",
    "    'label':'Random forest classifier gridsearch',\n",
    "    'model': rf_grid, #RandomForestClassifier(),\n",
    "},\n",
    "{\n",
    "    'label':'Random forest classifier randomsearch',\n",
    "    'model': rf_random, #RandomForestClassifier(),\n",
    "},\n",
    "{\n",
    "    'label': 'XGBoost Classifier',\n",
    "    'model': XGBClassifier(max_depth=10, n_estimators=300, use_label_encoder=False),\n",
    "#  # 'model': GradientBoostingClassifier(n_estimators=300,max_depth=10)\n",
    "},\n",
    "{\n",
    "    'label':'LightGBM',\n",
    "    'model': LGBMClassifier()\n",
    "}\n",
    "]"
   ]
  },
  {
   "cell_type": "code",
   "execution_count": 74,
   "id": "republican-statement",
   "metadata": {},
   "outputs": [
    {
     "name": "stdout",
     "output_type": "stream",
     "text": [
      "Fitting 3 folds for each of 36 candidates, totalling 108 fits\n"
     ]
    },
    {
     "name": "stderr",
     "output_type": "stream",
     "text": [
      "[Parallel(n_jobs=-1)]: Using backend LokyBackend with 8 concurrent workers.\n",
      "[Parallel(n_jobs=-1)]: Done  25 tasks      | elapsed:    4.8s\n",
      "[Parallel(n_jobs=-1)]: Done 108 out of 108 | elapsed:   14.7s finished\n"
     ]
    },
    {
     "name": "stdout",
     "output_type": "stream",
     "text": [
      "Fitting 3 folds for each of 10 candidates, totalling 30 fits\n"
     ]
    },
    {
     "name": "stderr",
     "output_type": "stream",
     "text": [
      "[Parallel(n_jobs=-1)]: Using backend LokyBackend with 8 concurrent workers.\n",
      "[Parallel(n_jobs=-1)]: Done  30 out of  30 | elapsed:   10.3s finished\n"
     ]
    },
    {
     "name": "stdout",
     "output_type": "stream",
     "text": [
      "[00:03:28] WARNING: /opt/concourse/worker/volumes/live/7a2b9f41-3287-451b-6691-43e9a6c0910f/volume/xgboost-split_1619728204606/work/src/learner.cc:1061: Starting in XGBoost 1.3.0, the default evaluation metric used with the objective 'binary:logistic' was changed from 'error' to 'logloss'. Explicitly set eval_metric if you'd like to restore the old behavior.\n"
     ]
    },
    {
     "data": {
      "image/png": "[encoded data removed]",
      "text/plain": [
       "<Figure size 432x288 with 1 Axes>"
      ]
     },
     "metadata": {
      "needs_background": "light"
     },
     "output_type": "display_data"
    }
   ],
   "source": [
    "# Below for loop iterates through your models list\n",
    "for m in models:\n",
    "    model = m['model'] # select the model\n",
    "    model.fit(X_train, y_train) # train the model\n",
    "    y_pred=model.predict(X_test) # predict the test data\n",
    "# Compute False postive rate, and True positive rate\n",
    "    fpr, tpr, thresholds = roc_curve(y_test, model.predict_proba(X_test)[:,1])\n",
    "# Calculate Area under the curve to display on the plot\n",
    "    auc = roc_auc_score(y_test,model.predict(X_test))\n",
    "# Now, plot the computed values\n",
    "    plt.plot(fpr, tpr, label='%s ROC (area = %0.2f)' % (m['label'], auc))\n",
    "    \n",
    "# Custom settings for the plot \n",
    "plt.plot([0, 1], [0, 1],'r--')\n",
    "plt.xlim([0.0, 1.0])\n",
    "plt.ylim([0.0, 1.05])\n",
    "plt.xlabel('1-Specificity (False Positive Rate)')\n",
    "plt.ylabel('Sensitivity (True Positive Rate)')\n",
    "plt.title('ROC comparison')\n",
    "plt.legend(loc=\"lower right\")\n",
    "plt.show()"
   ]
  },
  {
   "cell_type": "markdown",
   "id": "hundred-gnome",
   "metadata": {},
   "source": [
    "### feature importance"
   ]
  },
  {
   "cell_type": "code",
   "execution_count": 78,
   "id": "passive-background",
   "metadata": {},
   "outputs": [],
   "source": [
    "import shap\n",
    "\n",
    "model = rf_grid.best_estimator_\n",
    "explainer = shap.TreeExplainer(model)\n",
    "shap_values = explainer.shap_values(X_train)"
   ]
  },
  {
   "cell_type": "code",
   "execution_count": 79,
   "id": "incorrect-killer",
   "metadata": {},
   "outputs": [
    {
     "data": {
      "text/plain": [
       "[array([[ 9.82468806e-06,  4.81760012e-04, -3.49382421e-04, ...,\n",
       "         -7.12751200e-05, -1.91996904e-04,  9.21985487e-05],\n",
       "        [-3.79548306e-03, -1.67164849e-03, -1.79866988e-03, ...,\n",
       "         -4.29519523e-03, -2.67680588e-03, -4.72206930e-06],\n",
       "        [ 5.49395747e-04, -2.01373720e-04,  5.29657856e-04, ...,\n",
       "          2.82317962e-04,  9.91818876e-05,  9.83027086e-05],\n",
       "        ...,\n",
       "        [ 1.22351532e-03, -1.13127683e-03, -1.22181836e-03, ...,\n",
       "          3.04885460e-04,  1.39039272e-04,  4.17410269e-05],\n",
       "        [ 1.31052334e-03, -8.22506023e-04,  6.09984271e-05, ...,\n",
       "         -9.24696124e-05, -9.61279737e-06,  7.84863668e-05],\n",
       "        [ 1.89021699e-03,  5.05815897e-04,  3.02282091e-04, ...,\n",
       "          2.94563695e-05, -3.19127978e-05,  1.04049964e-04]]),\n",
       " array([[-9.82468806e-06, -4.81760012e-04,  3.49382421e-04, ...,\n",
       "          7.12751200e-05,  1.91996904e-04, -9.21985487e-05],\n",
       "        [ 3.79548306e-03,  1.67164849e-03,  1.79866988e-03, ...,\n",
       "          4.29519523e-03,  2.67680588e-03,  4.72206930e-06],\n",
       "        [-5.49395747e-04,  2.01373720e-04, -5.29657856e-04, ...,\n",
       "         -2.82317962e-04, -9.91818876e-05, -9.83027086e-05],\n",
       "        ...,\n",
       "        [-1.22351532e-03,  1.13127683e-03,  1.22181836e-03, ...,\n",
       "         -3.04885460e-04, -1.39039272e-04, -4.17410269e-05],\n",
       "        [-1.31052334e-03,  8.22506023e-04, -6.09984271e-05, ...,\n",
       "          9.24696124e-05,  9.61279737e-06, -7.84863668e-05],\n",
       "        [-1.89021699e-03, -5.05815897e-04, -3.02282091e-04, ...,\n",
       "         -2.94563695e-05,  3.19127978e-05, -1.04049964e-04]])]"
      ]
     },
     "execution_count": 79,
     "metadata": {},
     "output_type": "execute_result"
    }
   ],
   "source": [
    "shap_values"
   ]
  },
  {
   "cell_type": "code",
   "execution_count": 80,
   "id": "every-destruction",
   "metadata": {},
   "outputs": [
    {
     "data": {
      "image/png": "[encoded data removed]",
      "text/plain": [
       "<Figure size 432x288 with 4 Axes>"
      ]
     },
     "metadata": {
      "needs_background": "light"
     },
     "output_type": "display_data"
    }
   ],
   "source": [
    "shap.partial_dependence_plot(\"Attr34\", \n",
    "                             model.predict, X_train,\n",
    "                             model_expected_value=True, \n",
    "                             feature_expected_value=True)"
   ]
  },
  {
   "cell_type": "markdown",
   "id": "cleared-television",
   "metadata": {},
   "source": [
    "shap.plots.partial_dependence(\"Attr34\", \n",
    "                             model.predict, X_train,\n",
    "                             model_expected_value=True, \n",
    "                             feature_expected_value=True)"
   ]
  },
  {
   "cell_type": "markdown",
   "id": "roman-philadelphia",
   "metadata": {},
   "source": [
    "#the waterfall_plot shows how we get from explainer.expected_value to model.predict(X)[sample_ind]\n",
    "shap.waterfall_plot(explainer.expected_value, \n",
    "                    shap_values[sample_ind], \n",
    "                    X.iloc[sample_ind], \n",
    "                    max_display=14)"
   ]
  },
  {
   "cell_type": "markdown",
   "id": "superb-antique",
   "metadata": {},
   "source": [
    "shap.force_plot(explainer.expected_value, \n",
    "                shap_values, \n",
    "                features=X_train, \n",
    "                feature_names=X_train.columns)"
   ]
  },
  {
   "cell_type": "code",
   "execution_count": 81,
   "id": "opponent-paraguay",
   "metadata": {},
   "outputs": [
    {
     "data": {
      "image/png": "[encoded data removed]",
      "text/plain": [
       "<Figure size 576x684 with 1 Axes>"
      ]
     },
     "metadata": {
      "needs_background": "light"
     },
     "output_type": "display_data"
    }
   ],
   "source": [
    "shap.summary_plot(shap_values, \n",
    "                  features=X_train, \n",
    "                  feature_names=X_train.columns)"
   ]
  },
  {
   "cell_type": "markdown",
   "id": "computational-printing",
   "metadata": {},
   "source": [
    "#### input data order matters"
   ]
  },
  {
   "cell_type": "code",
   "execution_count": 82,
   "id": "alleged-benefit",
   "metadata": {},
   "outputs": [
    {
     "data": {
      "text/html": [
       "<div>\n",
       "<style scoped>\n",
       "    .dataframe tbody tr th:only-of-type {\n",
       "        vertical-align: middle;\n",
       "    }\n",
       "\n",
       "    .dataframe tbody tr th {\n",
       "        vertical-align: top;\n",
       "    }\n",
       "\n",
       "    .dataframe thead th {\n",
       "        text-align: right;\n",
       "    }\n",
       "</style>\n",
       "<table border=\"1\" class=\"dataframe\">\n",
       "  <thead>\n",
       "    <tr style=\"text-align: right;\">\n",
       "      <th></th>\n",
       "      <th>Attr9</th>\n",
       "      <th>Attr8</th>\n",
       "      <th>Attr7</th>\n",
       "      <th>Attr64</th>\n",
       "      <th>Attr63</th>\n",
       "      <th>Attr62</th>\n",
       "      <th>Attr61</th>\n",
       "      <th>Attr60</th>\n",
       "      <th>Attr6</th>\n",
       "      <th>Attr59</th>\n",
       "      <th>...</th>\n",
       "      <th>Attr18</th>\n",
       "      <th>Attr17</th>\n",
       "      <th>Attr16</th>\n",
       "      <th>Attr15</th>\n",
       "      <th>Attr14</th>\n",
       "      <th>Attr13</th>\n",
       "      <th>Attr12</th>\n",
       "      <th>Attr11</th>\n",
       "      <th>Attr10</th>\n",
       "      <th>Attr1</th>\n",
       "    </tr>\n",
       "  </thead>\n",
       "  <tbody>\n",
       "    <tr>\n",
       "      <th>9254</th>\n",
       "      <td>-0.337645</td>\n",
       "      <td>-0.350015</td>\n",
       "      <td>-0.002532</td>\n",
       "      <td>-0.042146</td>\n",
       "      <td>-0.458456</td>\n",
       "      <td>-0.005560</td>\n",
       "      <td>-0.259822</td>\n",
       "      <td>-0.042246</td>\n",
       "      <td>-0.016368</td>\n",
       "      <td>-0.015322</td>\n",
       "      <td>...</td>\n",
       "      <td>-0.004634</td>\n",
       "      <td>-0.362071</td>\n",
       "      <td>-0.436372</td>\n",
       "      <td>0.033249</td>\n",
       "      <td>-0.002538</td>\n",
       "      <td>-0.011839</td>\n",
       "      <td>-0.138342</td>\n",
       "      <td>-0.257894</td>\n",
       "      <td>-0.024474</td>\n",
       "      <td>-0.044631</td>\n",
       "    </tr>\n",
       "    <tr>\n",
       "      <th>1561</th>\n",
       "      <td>-0.878055</td>\n",
       "      <td>-0.706976</td>\n",
       "      <td>-0.109599</td>\n",
       "      <td>-0.046160</td>\n",
       "      <td>-0.694402</td>\n",
       "      <td>0.075118</td>\n",
       "      <td>-0.194218</td>\n",
       "      <td>-0.047293</td>\n",
       "      <td>-0.031319</td>\n",
       "      <td>-0.024555</td>\n",
       "      <td>...</td>\n",
       "      <td>-0.110056</td>\n",
       "      <td>-0.703486</td>\n",
       "      <td>-0.946901</td>\n",
       "      <td>-0.040554</td>\n",
       "      <td>-0.109604</td>\n",
       "      <td>-0.030941</td>\n",
       "      <td>-0.327939</td>\n",
       "      <td>-1.585331</td>\n",
       "      <td>-0.306234</td>\n",
       "      <td>-0.701380</td>\n",
       "    </tr>\n",
       "    <tr>\n",
       "      <th>1670</th>\n",
       "      <td>0.329149</td>\n",
       "      <td>-0.426305</td>\n",
       "      <td>0.001783</td>\n",
       "      <td>-0.030077</td>\n",
       "      <td>-0.122938</td>\n",
       "      <td>-0.014603</td>\n",
       "      <td>-0.101252</td>\n",
       "      <td>-0.042769</td>\n",
       "      <td>-0.016047</td>\n",
       "      <td>-0.005462</td>\n",
       "      <td>...</td>\n",
       "      <td>-0.000385</td>\n",
       "      <td>-0.436311</td>\n",
       "      <td>-0.449383</td>\n",
       "      <td>0.041818</td>\n",
       "      <td>0.001777</td>\n",
       "      <td>-0.012314</td>\n",
       "      <td>-0.110318</td>\n",
       "      <td>0.026652</td>\n",
       "      <td>-0.056284</td>\n",
       "      <td>-0.019736</td>\n",
       "    </tr>\n",
       "    <tr>\n",
       "      <th>6087</th>\n",
       "      <td>0.622779</td>\n",
       "      <td>-0.487791</td>\n",
       "      <td>0.005281</td>\n",
       "      <td>-0.023402</td>\n",
       "      <td>-0.250691</td>\n",
       "      <td>-0.012612</td>\n",
       "      <td>-0.247173</td>\n",
       "      <td>-0.017785</td>\n",
       "      <td>-0.016047</td>\n",
       "      <td>-0.006254</td>\n",
       "      <td>...</td>\n",
       "      <td>0.003060</td>\n",
       "      <td>-0.494805</td>\n",
       "      <td>-0.225162</td>\n",
       "      <td>-0.006453</td>\n",
       "      <td>0.005276</td>\n",
       "      <td>-0.011056</td>\n",
       "      <td>-0.117659</td>\n",
       "      <td>0.115967</td>\n",
       "      <td>-0.088845</td>\n",
       "      <td>-0.016970</td>\n",
       "    </tr>\n",
       "    <tr>\n",
       "      <th>6669</th>\n",
       "      <td>0.407606</td>\n",
       "      <td>-0.040618</td>\n",
       "      <td>-0.001177</td>\n",
       "      <td>-0.022282</td>\n",
       "      <td>-0.136180</td>\n",
       "      <td>-0.014435</td>\n",
       "      <td>0.062942</td>\n",
       "      <td>-0.044989</td>\n",
       "      <td>-0.016047</td>\n",
       "      <td>-0.023280</td>\n",
       "      <td>...</td>\n",
       "      <td>-0.003300</td>\n",
       "      <td>-0.069124</td>\n",
       "      <td>-0.341229</td>\n",
       "      <td>0.004865</td>\n",
       "      <td>-0.001183</td>\n",
       "      <td>-0.012159</td>\n",
       "      <td>-0.128563</td>\n",
       "      <td>-0.059217</td>\n",
       "      <td>0.055507</td>\n",
       "      <td>-0.045525</td>\n",
       "    </tr>\n",
       "    <tr>\n",
       "      <th>...</th>\n",
       "      <td>...</td>\n",
       "      <td>...</td>\n",
       "      <td>...</td>\n",
       "      <td>...</td>\n",
       "      <td>...</td>\n",
       "      <td>...</td>\n",
       "      <td>...</td>\n",
       "      <td>...</td>\n",
       "      <td>...</td>\n",
       "      <td>...</td>\n",
       "      <td>...</td>\n",
       "      <td>...</td>\n",
       "      <td>...</td>\n",
       "      <td>...</td>\n",
       "      <td>...</td>\n",
       "      <td>...</td>\n",
       "      <td>...</td>\n",
       "      <td>...</td>\n",
       "      <td>...</td>\n",
       "      <td>...</td>\n",
       "      <td>...</td>\n",
       "    </tr>\n",
       "    <tr>\n",
       "      <th>5734</th>\n",
       "      <td>-0.363228</td>\n",
       "      <td>0.522029</td>\n",
       "      <td>-0.001738</td>\n",
       "      <td>-0.046277</td>\n",
       "      <td>-0.373565</td>\n",
       "      <td>-0.009399</td>\n",
       "      <td>-0.091414</td>\n",
       "      <td>-0.041909</td>\n",
       "      <td>-0.010135</td>\n",
       "      <td>-0.022714</td>\n",
       "      <td>...</td>\n",
       "      <td>-0.003851</td>\n",
       "      <td>0.486627</td>\n",
       "      <td>-0.302487</td>\n",
       "      <td>-0.000148</td>\n",
       "      <td>-0.001743</td>\n",
       "      <td>-0.011422</td>\n",
       "      <td>-0.105694</td>\n",
       "      <td>-0.243152</td>\n",
       "      <td>0.114788</td>\n",
       "      <td>-0.046265</td>\n",
       "    </tr>\n",
       "    <tr>\n",
       "      <th>5191</th>\n",
       "      <td>-0.257482</td>\n",
       "      <td>0.698008</td>\n",
       "      <td>0.041533</td>\n",
       "      <td>-0.034055</td>\n",
       "      <td>-0.058868</td>\n",
       "      <td>-0.015321</td>\n",
       "      <td>-0.055334</td>\n",
       "      <td>-0.045112</td>\n",
       "      <td>0.100958</td>\n",
       "      <td>-0.023442</td>\n",
       "      <td>...</td>\n",
       "      <td>0.038755</td>\n",
       "      <td>0.671095</td>\n",
       "      <td>0.856186</td>\n",
       "      <td>-0.021394</td>\n",
       "      <td>0.041528</td>\n",
       "      <td>-0.008814</td>\n",
       "      <td>0.238122</td>\n",
       "      <td>0.559275</td>\n",
       "      <td>0.123288</td>\n",
       "      <td>0.152036</td>\n",
       "    </tr>\n",
       "    <tr>\n",
       "      <th>5390</th>\n",
       "      <td>0.382022</td>\n",
       "      <td>-0.535622</td>\n",
       "      <td>0.004679</td>\n",
       "      <td>-0.035683</td>\n",
       "      <td>-0.333142</td>\n",
       "      <td>-0.010669</td>\n",
       "      <td>0.742983</td>\n",
       "      <td>-0.041254</td>\n",
       "      <td>-0.016047</td>\n",
       "      <td>0.007472</td>\n",
       "      <td>...</td>\n",
       "      <td>0.002466</td>\n",
       "      <td>-0.540375</td>\n",
       "      <td>-0.398987</td>\n",
       "      <td>0.017492</td>\n",
       "      <td>0.004673</td>\n",
       "      <td>-0.011850</td>\n",
       "      <td>-0.122158</td>\n",
       "      <td>0.385048</td>\n",
       "      <td>-0.119792</td>\n",
       "      <td>-0.022011</td>\n",
       "    </tr>\n",
       "    <tr>\n",
       "      <th>860</th>\n",
       "      <td>0.406798</td>\n",
       "      <td>-0.446496</td>\n",
       "      <td>0.033314</td>\n",
       "      <td>-0.018618</td>\n",
       "      <td>-0.374511</td>\n",
       "      <td>-0.009365</td>\n",
       "      <td>0.230009</td>\n",
       "      <td>-0.045200</td>\n",
       "      <td>-0.016047</td>\n",
       "      <td>-0.019420</td>\n",
       "      <td>...</td>\n",
       "      <td>0.030662</td>\n",
       "      <td>-0.455518</td>\n",
       "      <td>-0.157697</td>\n",
       "      <td>-0.009863</td>\n",
       "      <td>0.033308</td>\n",
       "      <td>-0.010565</td>\n",
       "      <td>-0.043578</td>\n",
       "      <td>0.497759</td>\n",
       "      <td>-0.066221</td>\n",
       "      <td>0.111872</td>\n",
       "    </tr>\n",
       "    <tr>\n",
       "      <th>7270</th>\n",
       "      <td>-0.679049</td>\n",
       "      <td>0.561251</td>\n",
       "      <td>0.056752</td>\n",
       "      <td>-0.044249</td>\n",
       "      <td>-0.246733</td>\n",
       "      <td>-0.012689</td>\n",
       "      <td>-0.101991</td>\n",
       "      <td>-0.043696</td>\n",
       "      <td>-0.015124</td>\n",
       "      <td>-0.021471</td>\n",
       "      <td>...</td>\n",
       "      <td>0.053740</td>\n",
       "      <td>0.503845</td>\n",
       "      <td>1.064331</td>\n",
       "      <td>-0.021956</td>\n",
       "      <td>0.056747</td>\n",
       "      <td>-0.003117</td>\n",
       "      <td>0.554496</td>\n",
       "      <td>0.850363</td>\n",
       "      <td>0.121591</td>\n",
       "      <td>0.218907</td>\n",
       "    </tr>\n",
       "  </tbody>\n",
       "</table>\n",
       "<p>8000 rows × 64 columns</p>\n",
       "</div>"
      ],
      "text/plain": [
       "         Attr9     Attr8     Attr7    Attr64    Attr63    Attr62    Attr61  \\\n",
       "9254 -0.337645 -0.350015 -0.002532 -0.042146 -0.458456 -0.005560 -0.259822   \n",
       "1561 -0.878055 -0.706976 -0.109599 -0.046160 -0.694402  0.075118 -0.194218   \n",
       "1670  0.329149 -0.426305  0.001783 -0.030077 -0.122938 -0.014603 -0.101252   \n",
       "6087  0.622779 -0.487791  0.005281 -0.023402 -0.250691 -0.012612 -0.247173   \n",
       "6669  0.407606 -0.040618 -0.001177 -0.022282 -0.136180 -0.014435  0.062942   \n",
       "...        ...       ...       ...       ...       ...       ...       ...   \n",
       "5734 -0.363228  0.522029 -0.001738 -0.046277 -0.373565 -0.009399 -0.091414   \n",
       "5191 -0.257482  0.698008  0.041533 -0.034055 -0.058868 -0.015321 -0.055334   \n",
       "5390  0.382022 -0.535622  0.004679 -0.035683 -0.333142 -0.010669  0.742983   \n",
       "860   0.406798 -0.446496  0.033314 -0.018618 -0.374511 -0.009365  0.230009   \n",
       "7270 -0.679049  0.561251  0.056752 -0.044249 -0.246733 -0.012689 -0.101991   \n",
       "\n",
       "        Attr60     Attr6    Attr59  ...    Attr18    Attr17    Attr16  \\\n",
       "9254 -0.042246 -0.016368 -0.015322  ... -0.004634 -0.362071 -0.436372   \n",
       "1561 -0.047293 -0.031319 -0.024555  ... -0.110056 -0.703486 -0.946901   \n",
       "1670 -0.042769 -0.016047 -0.005462  ... -0.000385 -0.436311 -0.449383   \n",
       "6087 -0.017785 -0.016047 -0.006254  ...  0.003060 -0.494805 -0.225162   \n",
       "6669 -0.044989 -0.016047 -0.023280  ... -0.003300 -0.069124 -0.341229   \n",
       "...        ...       ...       ...  ...       ...       ...       ...   \n",
       "5734 -0.041909 -0.010135 -0.022714  ... -0.003851  0.486627 -0.302487   \n",
       "5191 -0.045112  0.100958 -0.023442  ...  0.038755  0.671095  0.856186   \n",
       "5390 -0.041254 -0.016047  0.007472  ...  0.002466 -0.540375 -0.398987   \n",
       "860  -0.045200 -0.016047 -0.019420  ...  0.030662 -0.455518 -0.157697   \n",
       "7270 -0.043696 -0.015124 -0.021471  ...  0.053740  0.503845  1.064331   \n",
       "\n",
       "        Attr15    Attr14    Attr13    Attr12    Attr11    Attr10     Attr1  \n",
       "9254  0.033249 -0.002538 -0.011839 -0.138342 -0.257894 -0.024474 -0.044631  \n",
       "1561 -0.040554 -0.109604 -0.030941 -0.327939 -1.585331 -0.306234 -0.701380  \n",
       "1670  0.041818  0.001777 -0.012314 -0.110318  0.026652 -0.056284 -0.019736  \n",
       "6087 -0.006453  0.005276 -0.011056 -0.117659  0.115967 -0.088845 -0.016970  \n",
       "6669  0.004865 -0.001183 -0.012159 -0.128563 -0.059217  0.055507 -0.045525  \n",
       "...        ...       ...       ...       ...       ...       ...       ...  \n",
       "5734 -0.000148 -0.001743 -0.011422 -0.105694 -0.243152  0.114788 -0.046265  \n",
       "5191 -0.021394  0.041528 -0.008814  0.238122  0.559275  0.123288  0.152036  \n",
       "5390  0.017492  0.004673 -0.011850 -0.122158  0.385048 -0.119792 -0.022011  \n",
       "860  -0.009863  0.033308 -0.010565 -0.043578  0.497759 -0.066221  0.111872  \n",
       "7270 -0.021956  0.056747 -0.003117  0.554496  0.850363  0.121591  0.218907  \n",
       "\n",
       "[8000 rows x 64 columns]"
      ]
     },
     "execution_count": 82,
     "metadata": {},
     "output_type": "execute_result"
    }
   ],
   "source": [
    "X_train = X_train.reindex(columns= X_train.columns.sort_values(ascending=False))\n",
    "X_train"
   ]
  },
  {
   "cell_type": "code",
   "execution_count": 83,
   "id": "pressing-solid",
   "metadata": {},
   "outputs": [
    {
     "name": "stdout",
     "output_type": "stream",
     "text": [
      "Fitting 3 folds for each of 36 candidates, totalling 108 fits\n"
     ]
    },
    {
     "name": "stderr",
     "output_type": "stream",
     "text": [
      "[Parallel(n_jobs=-1)]: Using backend LokyBackend with 8 concurrent workers.\n",
      "[Parallel(n_jobs=-1)]: Done  25 tasks      | elapsed:    5.0s\n",
      "[Parallel(n_jobs=-1)]: Done 108 out of 108 | elapsed:   15.2s finished\n"
     ]
    },
    {
     "data": {
      "text/plain": [
       "GridSearchCV(cv=3, estimator=RandomForestClassifier(), n_jobs=-1,\n",
       "             param_grid={'bootstrap': [True], 'max_depth': [5, 7, 10],\n",
       "                         'max_features': [2, 3],\n",
       "                         'min_samples_leaf': [10, 20, 30],\n",
       "                         'min_samples_split': [10, 20], 'n_estimators': [100]},\n",
       "             verbose=2)"
      ]
     },
     "execution_count": 83,
     "metadata": {},
     "output_type": "execute_result"
    }
   ],
   "source": [
    "rf_grid.fit(X_train, y_train)"
   ]
  },
  {
   "cell_type": "code",
   "execution_count": 84,
   "id": "electric-harvest",
   "metadata": {},
   "outputs": [],
   "source": [
    "y_predict = clf.predict(X_test)"
   ]
  },
  {
   "cell_type": "code",
   "execution_count": 85,
   "id": "broad-belize",
   "metadata": {},
   "outputs": [
    {
     "data": {
      "image/png": "[encoded data removed]",
      "text/plain": [
       "<Figure size 576x684 with 1 Axes>"
      ]
     },
     "metadata": {
      "needs_background": "light"
     },
     "output_type": "display_data"
    }
   ],
   "source": [
    "shap.summary_plot(shap_values, \n",
    "                  features=X_train, \n",
    "                  feature_names=X_train.columns)"
   ]
  },
  {
   "cell_type": "markdown",
   "id": "jewish-drama",
   "metadata": {},
   "source": [
    "shap.summary_plot(shap_values, \n",
    "                  features=X_train, plot_type='dot', \n",
    "                  max_display=X_train.columns.shape[0],\n",
    "                  feature_names=X_train.columns)"
   ]
  },
  {
   "cell_type": "code",
   "execution_count": 90,
   "id": "technical-playback",
   "metadata": {},
   "outputs": [
    {
     "data": {
      "image/png": "[encoded data removed]",
      "text/plain": [
       "<Figure size 576x684 with 1 Axes>"
      ]
     },
     "metadata": {
      "needs_background": "light"
     },
     "output_type": "display_data"
    }
   ],
   "source": [
    "shap.summary_plot(shap_values, X_test)"
   ]
  },
  {
   "cell_type": "code",
   "execution_count": 97,
   "id": "sufficient-raleigh",
   "metadata": {},
   "outputs": [
    {
     "data": {
      "text/plain": [
       "array([0.02212265, 0.01345992, 0.01062006, 0.01058523, 0.01297264,\n",
       "       0.01120328, 0.01161269, 0.01256465, 0.0192269 , 0.01018808,\n",
       "       0.01553853, 0.01714714, 0.01952156, 0.02033747, 0.02053892,\n",
       "       0.03100697, 0.01714946, 0.01376585, 0.0177367 , 0.0155581 ,\n",
       "       0.01222682, 0.01294565, 0.01642116, 0.023398  , 0.03188915,\n",
       "       0.02454877, 0.02533778, 0.00956854, 0.01248768, 0.01124258,\n",
       "       0.01604011, 0.01252094, 0.01169004, 0.02527161, 0.01589041,\n",
       "       0.01116708, 0.01206761, 0.01127661, 0.02256584, 0.02502438,\n",
       "       0.01769964, 0.01156539, 0.00802603, 0.00886219, 0.01698076,\n",
       "       0.02194727, 0.00892294, 0.02448839, 0.01710208, 0.00873829,\n",
       "       0.01027739, 0.01182297, 0.01857391, 0.01952056, 0.01224163,\n",
       "       0.01843696, 0.0106248 , 0.02245469, 0.01254915, 0.01024349,\n",
       "       0.00720121, 0.01247049, 0.01057933, 0.01223294])"
      ]
     },
     "execution_count": 97,
     "metadata": {},
     "output_type": "execute_result"
    }
   ],
   "source": [
    "model.feature_importances_"
   ]
  },
  {
   "cell_type": "code",
   "execution_count": 100,
   "id": "handy-finish",
   "metadata": {},
   "outputs": [],
   "source": [
    "ftr_importances_values = model.feature_importances_\n",
    "ftr_importances = pd.Series(ftr_importances_values, index=X_train.columns)\n",
    "ftr_top20 = ftr_importances.sort_values(ascending=False)[:20]"
   ]
  },
  {
   "cell_type": "code",
   "execution_count": 101,
   "id": "piano-detail",
   "metadata": {},
   "outputs": [
    {
     "data": {
      "text/plain": [
       "Attr45    0.031889\n",
       "Attr53    0.031007\n",
       "Attr43    0.025338\n",
       "Attr37    0.025272\n",
       "Attr31    0.025024\n",
       "Attr44    0.024549\n",
       "Attr24    0.024488\n",
       "Attr46    0.023398\n",
       "Attr32    0.022566\n",
       "Attr15    0.022455\n",
       "Attr9     0.022123\n",
       "Attr26    0.021947\n",
       "Attr54    0.020539\n",
       "Attr55    0.020337\n",
       "Attr56    0.019522\n",
       "Attr19    0.019521\n",
       "Attr6     0.019227\n",
       "Attr2     0.018574\n",
       "Attr17    0.018437\n",
       "Attr50    0.017737\n",
       "dtype: float64"
      ]
     },
     "execution_count": 101,
     "metadata": {},
     "output_type": "execute_result"
    }
   ],
   "source": [
    "ftr_top20"
   ]
  },
  {
   "cell_type": "code",
   "execution_count": 103,
   "id": "strange-expression",
   "metadata": {},
   "outputs": [
    {
     "data": {
      "image/png": "[encoded data removed]",
      "text/plain": [
       "<Figure size 576x432 with 1 Axes>"
      ]
     },
     "metadata": {
      "needs_background": "light"
     },
     "output_type": "display_data"
    }
   ],
   "source": [
    "import seaborn as sns\n",
    "\n",
    "plt.figure(figsize=(8,6))\n",
    "plt.title('feature importances top 20')\n",
    "sns.barplot(x=ftr_top20, y=ftr_top20.index)\n",
    "plt.show()"
   ]
  },
  {
   "cell_type": "code",
   "execution_count": null,
   "id": "protecting-bunch",
   "metadata": {},
   "outputs": [],
   "source": []
  }
 ],
 "metadata": {
  "kernelspec": {
   "display_name": "Python 3",
   "language": "python",
   "name": "python3"
  },
  "language_info": {
   "codemirror_mode": {
    "name": "ipython",
    "version": 3
   },
   "file_extension": ".py",
   "mimetype": "text/x-python",
   "name": "python",
   "nbconvert_exporter": "python",
   "pygments_lexer": "ipython3",
   "version": "3.7.0"
  }
 },
 "nbformat": 4,
 "nbformat_minor": 5
}
