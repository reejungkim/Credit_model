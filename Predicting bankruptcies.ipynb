{
 "cells": [
  {
   "cell_type": "markdown",
   "id": "fitting-trick",
   "metadata": {},
   "source": [
    "https://towardsdatascience.com/streamline-model-tuning-on-bankruptcy-predictions-aabbc2fe62c0"
   ]
  },
  {
   "cell_type": "code",
   "execution_count": 1,
   "id": "applied-smith",
   "metadata": {},
   "outputs": [],
   "source": [
    "# Load up packages\n",
    "import pandas as pd\n",
    "import numpy as np\n",
    "import matplotlib.pyplot as plt\n",
    "%matplotlib inline\n",
    "from sklearn.linear_model import LogisticRegression\n",
    "\n",
    "from sklearn.ensemble import GradientBoostingClassifier\n",
    "#from xgboost import XGBClassifier\n",
    "from sklearn.model_selection import train_test_split\n",
    "from sklearn.metrics import roc_curve, auc, roc_auc_score\n",
    "#import h2o\n",
    "#from h2o.automl import H2OAutoML\n"
   ]
  },
  {
   "cell_type": "code",
   "execution_count": 2,
   "id": "saved-haven",
   "metadata": {},
   "outputs": [],
   "source": [
    "from xgboost import XGBClassifier"
   ]
  },
  {
   "cell_type": "code",
   "execution_count": 3,
   "id": "steady-spine",
   "metadata": {},
   "outputs": [],
   "source": [
    "# Load data\n",
    "data = pd.read_csv('/Users/reejungkim/Documents/Git/companies-bankruptcy-forecast/bankruptcy_Train.csv')"
   ]
  },
  {
   "cell_type": "code",
   "execution_count": 4,
   "id": "nonprofit-banks",
   "metadata": {},
   "outputs": [
    {
     "data": {
      "text/html": [
       "<div>\n",
       "<style scoped>\n",
       "    .dataframe tbody tr th:only-of-type {\n",
       "        vertical-align: middle;\n",
       "    }\n",
       "\n",
       "    .dataframe tbody tr th {\n",
       "        vertical-align: top;\n",
       "    }\n",
       "\n",
       "    .dataframe thead th {\n",
       "        text-align: right;\n",
       "    }\n",
       "</style>\n",
       "<table border=\"1\" class=\"dataframe\">\n",
       "  <thead>\n",
       "    <tr style=\"text-align: right;\">\n",
       "      <th></th>\n",
       "      <th>Attr1</th>\n",
       "      <th>Attr2</th>\n",
       "      <th>Attr3</th>\n",
       "      <th>Attr4</th>\n",
       "      <th>Attr5</th>\n",
       "      <th>Attr6</th>\n",
       "      <th>Attr7</th>\n",
       "      <th>Attr8</th>\n",
       "      <th>Attr9</th>\n",
       "      <th>Attr10</th>\n",
       "      <th>...</th>\n",
       "      <th>Attr56</th>\n",
       "      <th>Attr57</th>\n",
       "      <th>Attr58</th>\n",
       "      <th>Attr59</th>\n",
       "      <th>Attr60</th>\n",
       "      <th>Attr61</th>\n",
       "      <th>Attr62</th>\n",
       "      <th>Attr63</th>\n",
       "      <th>Attr64</th>\n",
       "      <th>class</th>\n",
       "    </tr>\n",
       "  </thead>\n",
       "  <tbody>\n",
       "    <tr>\n",
       "      <th>0</th>\n",
       "      <td>-0.031545</td>\n",
       "      <td>-0.091313</td>\n",
       "      <td>-0.040269</td>\n",
       "      <td>-0.013529</td>\n",
       "      <td>0.007406</td>\n",
       "      <td>-0.016047</td>\n",
       "      <td>-0.000264</td>\n",
       "      <td>0.641242</td>\n",
       "      <td>-0.748385</td>\n",
       "      <td>0.126789</td>\n",
       "      <td>...</td>\n",
       "      <td>0.014367</td>\n",
       "      <td>0.005457</td>\n",
       "      <td>-0.014143</td>\n",
       "      <td>-0.020924</td>\n",
       "      <td>0.068399</td>\n",
       "      <td>-0.214478</td>\n",
       "      <td>-0.013915</td>\n",
       "      <td>-0.173939</td>\n",
       "      <td>-0.046788</td>\n",
       "      <td>0</td>\n",
       "    </tr>\n",
       "    <tr>\n",
       "      <th>1</th>\n",
       "      <td>-0.231729</td>\n",
       "      <td>-0.049448</td>\n",
       "      <td>0.304381</td>\n",
       "      <td>-0.080975</td>\n",
       "      <td>0.007515</td>\n",
       "      <td>-0.016047</td>\n",
       "      <td>-0.034963</td>\n",
       "      <td>0.074710</td>\n",
       "      <td>0.469815</td>\n",
       "      <td>0.073759</td>\n",
       "      <td>...</td>\n",
       "      <td>0.008492</td>\n",
       "      <td>-0.008385</td>\n",
       "      <td>-0.008666</td>\n",
       "      <td>-0.023095</td>\n",
       "      <td>-0.033498</td>\n",
       "      <td>-0.205796</td>\n",
       "      <td>-0.015174</td>\n",
       "      <td>-0.073056</td>\n",
       "      <td>-0.027236</td>\n",
       "      <td>0</td>\n",
       "    </tr>\n",
       "    <tr>\n",
       "      <th>2</th>\n",
       "      <td>-0.058602</td>\n",
       "      <td>0.065060</td>\n",
       "      <td>-0.488404</td>\n",
       "      <td>-0.189489</td>\n",
       "      <td>0.006572</td>\n",
       "      <td>-0.016047</td>\n",
       "      <td>-0.004954</td>\n",
       "      <td>-0.456287</td>\n",
       "      <td>0.270351</td>\n",
       "      <td>-0.071287</td>\n",
       "      <td>...</td>\n",
       "      <td>0.010819</td>\n",
       "      <td>0.006779</td>\n",
       "      <td>-0.009437</td>\n",
       "      <td>-0.007919</td>\n",
       "      <td>-0.043455</td>\n",
       "      <td>0.019740</td>\n",
       "      <td>-0.011736</td>\n",
       "      <td>-0.291624</td>\n",
       "      <td>-0.033580</td>\n",
       "      <td>0</td>\n",
       "    </tr>\n",
       "    <tr>\n",
       "      <th>3</th>\n",
       "      <td>-0.069376</td>\n",
       "      <td>0.044641</td>\n",
       "      <td>-0.181684</td>\n",
       "      <td>-0.140032</td>\n",
       "      <td>0.007477</td>\n",
       "      <td>-0.010915</td>\n",
       "      <td>-0.005599</td>\n",
       "      <td>-0.462971</td>\n",
       "      <td>-0.286746</td>\n",
       "      <td>-0.085266</td>\n",
       "      <td>...</td>\n",
       "      <td>0.010683</td>\n",
       "      <td>0.005384</td>\n",
       "      <td>-0.010840</td>\n",
       "      <td>0.001381</td>\n",
       "      <td>-0.042828</td>\n",
       "      <td>-0.350519</td>\n",
       "      <td>0.002969</td>\n",
       "      <td>-0.554685</td>\n",
       "      <td>-0.046823</td>\n",
       "      <td>0</td>\n",
       "    </tr>\n",
       "    <tr>\n",
       "      <th>4</th>\n",
       "      <td>0.236424</td>\n",
       "      <td>-0.051912</td>\n",
       "      <td>0.678337</td>\n",
       "      <td>-0.014680</td>\n",
       "      <td>0.007879</td>\n",
       "      <td>-0.016047</td>\n",
       "      <td>0.057418</td>\n",
       "      <td>0.097183</td>\n",
       "      <td>0.423405</td>\n",
       "      <td>0.076880</td>\n",
       "      <td>...</td>\n",
       "      <td>0.010970</td>\n",
       "      <td>0.025295</td>\n",
       "      <td>-0.011056</td>\n",
       "      <td>-0.022535</td>\n",
       "      <td>-0.035892</td>\n",
       "      <td>-0.181557</td>\n",
       "      <td>-0.015623</td>\n",
       "      <td>-0.027841</td>\n",
       "      <td>-0.023694</td>\n",
       "      <td>0</td>\n",
       "    </tr>\n",
       "  </tbody>\n",
       "</table>\n",
       "<p>5 rows × 65 columns</p>\n",
       "</div>"
      ],
      "text/plain": [
       "      Attr1     Attr2     Attr3     Attr4     Attr5     Attr6     Attr7  \\\n",
       "0 -0.031545 -0.091313 -0.040269 -0.013529  0.007406 -0.016047 -0.000264   \n",
       "1 -0.231729 -0.049448  0.304381 -0.080975  0.007515 -0.016047 -0.034963   \n",
       "2 -0.058602  0.065060 -0.488404 -0.189489  0.006572 -0.016047 -0.004954   \n",
       "3 -0.069376  0.044641 -0.181684 -0.140032  0.007477 -0.010915 -0.005599   \n",
       "4  0.236424 -0.051912  0.678337 -0.014680  0.007879 -0.016047  0.057418   \n",
       "\n",
       "      Attr8     Attr9    Attr10  ...    Attr56    Attr57    Attr58    Attr59  \\\n",
       "0  0.641242 -0.748385  0.126789  ...  0.014367  0.005457 -0.014143 -0.020924   \n",
       "1  0.074710  0.469815  0.073759  ...  0.008492 -0.008385 -0.008666 -0.023095   \n",
       "2 -0.456287  0.270351 -0.071287  ...  0.010819  0.006779 -0.009437 -0.007919   \n",
       "3 -0.462971 -0.286746 -0.085266  ...  0.010683  0.005384 -0.010840  0.001381   \n",
       "4  0.097183  0.423405  0.076880  ...  0.010970  0.025295 -0.011056 -0.022535   \n",
       "\n",
       "     Attr60    Attr61    Attr62    Attr63    Attr64  class  \n",
       "0  0.068399 -0.214478 -0.013915 -0.173939 -0.046788      0  \n",
       "1 -0.033498 -0.205796 -0.015174 -0.073056 -0.027236      0  \n",
       "2 -0.043455  0.019740 -0.011736 -0.291624 -0.033580      0  \n",
       "3 -0.042828 -0.350519  0.002969 -0.554685 -0.046823      0  \n",
       "4 -0.035892 -0.181557 -0.015623 -0.027841 -0.023694      0  \n",
       "\n",
       "[5 rows x 65 columns]"
      ]
     },
     "execution_count": 4,
     "metadata": {},
     "output_type": "execute_result"
    }
   ],
   "source": [
    "data.head()"
   ]
  },
  {
   "cell_type": "code",
   "execution_count": 5,
   "id": "proof-worth",
   "metadata": {},
   "outputs": [
    {
     "data": {
      "text/plain": [
       "array([0, 1])"
      ]
     },
     "execution_count": 5,
     "metadata": {},
     "output_type": "execute_result"
    }
   ],
   "source": [
    "data['class'].unique()"
   ]
  },
  {
   "cell_type": "code",
   "execution_count": 6,
   "id": "about-elevation",
   "metadata": {},
   "outputs": [
    {
     "data": {
      "text/plain": [
       "False"
      ]
     },
     "execution_count": 6,
     "metadata": {},
     "output_type": "execute_result"
    }
   ],
   "source": [
    "# Checking for null values\n",
    "data.isnull().values.any()\n"
   ]
  },
  {
   "cell_type": "code",
   "execution_count": 7,
   "id": "dedicated-vienna",
   "metadata": {},
   "outputs": [],
   "source": [
    "data.rename(columns={'class':'target'}, inplace=True)"
   ]
  },
  {
   "cell_type": "code",
   "execution_count": 8,
   "id": "discrete-brown",
   "metadata": {},
   "outputs": [],
   "source": [
    "# For features in h2o model\n",
    "cont_names = data.columns[:-1]\n",
    "#Setting up desired output and features for logistic regression and xgboost models\n",
    "output = data[data.columns[-1]]\n",
    "features = data[data.columns[:(data.shape[1]-1)]]"
   ]
  },
  {
   "cell_type": "code",
   "execution_count": 9,
   "id": "suited-daughter",
   "metadata": {},
   "outputs": [],
   "source": [
    "#splits data into X (features) and y (predictions)\n",
    "X_train, X_test, y_train, y_test = train_test_split(features, output, test_size=0.2, random_state=42)\n",
    "train = pd.concat([X_train, y_train], 1)\n",
    "test = pd.concat([X_test, y_test], 1)"
   ]
  },
  {
   "cell_type": "code",
   "execution_count": 10,
   "id": "aware-counter",
   "metadata": {},
   "outputs": [
    {
     "data": {
      "text/plain": [
       "<Figure size 432x288 with 0 Axes>"
      ]
     },
     "metadata": {},
     "output_type": "display_data"
    }
   ],
   "source": [
    "plt.figure()\n",
    "# Add the models to the list that you want to view on the ROC plot\n",
    "models = [\n",
    "{\n",
    "    'label': 'Logistic Regression',\n",
    "    'model': LogisticRegression(class_weight='balanced'),\n",
    "},\n",
    "{\n",
    "    'label': 'XGBoost Classifier',\n",
    "    'model': XGBClassifier(max_depth=10, n_estimators=300, use_label_encoder=False),\n",
    "  # 'model': GradientBoostingClassifier(n_estimators=300,max_depth=10)\n",
    "}\n",
    "]"
   ]
  },
  {
   "cell_type": "code",
   "execution_count": 11,
   "id": "maritime-binding",
   "metadata": {},
   "outputs": [
    {
     "name": "stderr",
     "output_type": "stream",
     "text": [
      "/Users/reejungkim/opt/anaconda3/envs/myenv/lib/python3.7/site-packages/sklearn/linear_model/_logistic.py:764: ConvergenceWarning: lbfgs failed to converge (status=1):\n",
      "STOP: TOTAL NO. of ITERATIONS REACHED LIMIT.\n",
      "\n",
      "Increase the number of iterations (max_iter) or scale the data as shown in:\n",
      "    https://scikit-learn.org/stable/modules/preprocessing.html\n",
      "Please also refer to the documentation for alternative solver options:\n",
      "    https://scikit-learn.org/stable/modules/linear_model.html#logistic-regression\n",
      "  extra_warning_msg=_LOGISTIC_SOLVER_CONVERGENCE_MSG)\n"
     ]
    },
    {
     "name": "stdout",
     "output_type": "stream",
     "text": [
      "[21:10:55] WARNING: /opt/concourse/worker/volumes/live/7a2b9f41-3287-451b-6691-43e9a6c0910f/volume/xgboost-split_1619728204606/work/src/learner.cc:1061: Starting in XGBoost 1.3.0, the default evaluation metric used with the objective 'binary:logistic' was changed from 'error' to 'logloss'. Explicitly set eval_metric if you'd like to restore the old behavior.\n"
     ]
    }
   ],
   "source": [
    "# Below for loop iterates through your models list\n",
    "for m in models:\n",
    "    model = m['model'] # select the model\n",
    "    model.fit(X_train, y_train) # train the model\n",
    "    y_pred=model.predict(X_test) # predict the test data"
   ]
  },
  {
   "cell_type": "code",
   "execution_count": 13,
   "id": "distinct-chancellor",
   "metadata": {},
   "outputs": [
    {
     "data": {
      "image/png": "[encoded data removed]",
      "text/plain": [
       "<Figure size 432x288 with 1 Axes>"
      ]
     },
     "metadata": {
      "needs_background": "light"
     },
     "output_type": "display_data"
    }
   ],
   "source": [
    "# Compute False postive rate, and True positive rate\n",
    "fpr, tpr, thresholds = roc_curve(y_test, model.predict_proba(X_test)[:,1])\n",
    "\n",
    "# Calculate Area under the curve to display on the plot\n",
    "auc = roc_auc_score(y_test,model.predict(X_test))\n",
    "\n",
    "# Now, plot the computed values\n",
    "plt.plot(fpr, tpr, label='%s ROC (area = %0.2f)' % (m['label'], auc))\n",
    "\n",
    "# Custom settings for the plot \n",
    "plt.plot([0, 1], [0, 1],'r--')\n",
    "plt.xlim([0.0, 1.0])\n",
    "plt.ylim([0.0, 1.05])\n",
    "plt.xlabel('1-Specificity (False Positive Rate)')\n",
    "plt.ylabel('Sensitivity (True Positive Rate)')\n",
    "plt.title('Logistic Regression v. XGBoost ROC')\n",
    "plt.legend(loc=\"lower right\")\n",
    "plt.show()"
   ]
  },
  {
   "cell_type": "code",
   "execution_count": 14,
   "id": "flexible-painting",
   "metadata": {},
   "outputs": [
    {
     "data": {
      "text/plain": [
       "0.98"
      ]
     },
     "execution_count": 14,
     "metadata": {},
     "output_type": "execute_result"
    }
   ],
   "source": [
    "clf = GradientBoostingClassifier(n_estimators=100, learning_rate=1.0,\n",
    "     max_depth=1, random_state=0)\n",
    "clf.fit(X_train, y_train)\n",
    "clf.score(X_test, y_test)"
   ]
  },
  {
   "cell_type": "code",
   "execution_count": 16,
   "id": "creative-remedy",
   "metadata": {},
   "outputs": [],
   "source": [
    "y_predict = clf.predict(X_test)"
   ]
  },
  {
   "cell_type": "code",
   "execution_count": 17,
   "id": "outdoor-denmark",
   "metadata": {},
   "outputs": [
    {
     "data": {
      "text/plain": [
       "array([0, 0, 0, ..., 0, 0, 0])"
      ]
     },
     "execution_count": 17,
     "metadata": {},
     "output_type": "execute_result"
    }
   ],
   "source": [
    "y_predict"
   ]
  },
  {
   "cell_type": "code",
   "execution_count": 19,
   "id": "interior-accordance",
   "metadata": {},
   "outputs": [
    {
     "data": {
      "text/plain": [
       "0.1414213562373095"
      ]
     },
     "execution_count": 19,
     "metadata": {},
     "output_type": "execute_result"
    }
   ],
   "source": [
    "from sklearn.metrics import mean_squared_error\n",
    "\n",
    "mean_squared_error(y_test, y_predict)**(0.5)"
   ]
  },
  {
   "cell_type": "code",
   "execution_count": 22,
   "id": "economic-structure",
   "metadata": {},
   "outputs": [],
   "source": [
    "import shap\n",
    "\n",
    "\n",
    "explainer = shap.TreeExplainer(clf)\n",
    "shap_values = explainer.shap_values(X_train)"
   ]
  },
  {
   "cell_type": "code",
   "execution_count": 23,
   "id": "advance-entry",
   "metadata": {},
   "outputs": [
    {
     "data": {
      "text/plain": [
       "array([[ 0.03785839, -0.13097837,  0.        , ..., -0.05304892,\n",
       "         0.        ,  0.02831878],\n",
       "       [ 0.03785839,  0.25905858,  0.        , ...,  0.69280579,\n",
       "         0.        ,  0.02831878],\n",
       "       [ 0.03785839,  0.25905858,  0.        , ..., -0.05304892,\n",
       "         0.        ,  0.02831878],\n",
       "       ...,\n",
       "       [ 0.03785839,  0.25905858,  0.        , ..., -0.05304892,\n",
       "         0.        ,  0.02831878],\n",
       "       [ 0.03785839,  0.25905858,  0.        , ..., -0.05304892,\n",
       "         0.        ,  0.02831878],\n",
       "       [ 0.03785839, -0.13097837,  0.        , ..., -0.05304892,\n",
       "         0.        ,  0.02831878]])"
      ]
     },
     "execution_count": 23,
     "metadata": {},
     "output_type": "execute_result"
    }
   ],
   "source": [
    "shap_values"
   ]
  },
  {
   "cell_type": "code",
   "execution_count": 24,
   "id": "prerequisite-pressing",
   "metadata": {},
   "outputs": [
    {
     "data": {
      "image/png": "[encoded data removed]",
      "text/plain": [
       "<Figure size 576x684 with 2 Axes>"
      ]
     },
     "metadata": {
      "needs_background": "light"
     },
     "output_type": "display_data"
    }
   ],
   "source": [
    "shap.summary_plot(shap_values, \n",
    "                  features=X_train, \n",
    "                  feature_names=X_train.columns)"
   ]
  },
  {
   "cell_type": "code",
   "execution_count": null,
   "id": "ordinary-trade",
   "metadata": {},
   "outputs": [],
   "source": []
  }
 ],
 "metadata": {
  "kernelspec": {
   "display_name": "Python 3",
   "language": "python",
   "name": "python3"
  },
  "language_info": {
   "codemirror_mode": {
    "name": "ipython",
    "version": 3
   },
   "file_extension": ".py",
   "mimetype": "text/x-python",
   "name": "python",
   "nbconvert_exporter": "python",
   "pygments_lexer": "ipython3",
   "version": "3.7.0"
  }
 },
 "nbformat": 4,
 "nbformat_minor": 5
}
