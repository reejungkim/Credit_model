{
 "cells": [
  {
   "cell_type": "code",
   "execution_count": 1,
   "id": "8068c57d",
   "metadata": {},
   "outputs": [],
   "source": [
    "import pandas as pd\n",
    "import numpy as np\n",
    "import math\n",
    "\n",
    "data = pd.read_csv(\"/Users/reejungkim/Documents/Git/Credit_model/test_iv.csv\")\n"
   ]
  },
  {
   "cell_type": "code",
   "execution_count": 2,
   "id": "302220dc",
   "metadata": {
    "scrolled": true
   },
   "outputs": [
    {
     "data": {
      "text/plain": [
       "(32, 3)"
      ]
     },
     "execution_count": 2,
     "metadata": {},
     "output_type": "execute_result"
    }
   ],
   "source": [
    "data.shape"
   ]
  },
  {
   "cell_type": "code",
   "execution_count": 3,
   "id": "b8066922",
   "metadata": {},
   "outputs": [
    {
     "data": {
      "text/html": [
       "<div>\n",
       "<style scoped>\n",
       "    .dataframe tbody tr th:only-of-type {\n",
       "        vertical-align: middle;\n",
       "    }\n",
       "\n",
       "    .dataframe tbody tr th {\n",
       "        vertical-align: top;\n",
       "    }\n",
       "\n",
       "    .dataframe thead th {\n",
       "        text-align: right;\n",
       "    }\n",
       "</style>\n",
       "<table border=\"1\" class=\"dataframe\">\n",
       "  <thead>\n",
       "    <tr style=\"text-align: right;\">\n",
       "      <th></th>\n",
       "      <th>car_kind</th>\n",
       "      <th>mpg</th>\n",
       "      <th>vs</th>\n",
       "    </tr>\n",
       "  </thead>\n",
       "  <tbody>\n",
       "    <tr>\n",
       "      <th>0</th>\n",
       "      <td>Mazda RX4</td>\n",
       "      <td>21.0</td>\n",
       "      <td>0</td>\n",
       "    </tr>\n",
       "    <tr>\n",
       "      <th>1</th>\n",
       "      <td>Mazda RX4 Wag</td>\n",
       "      <td>21.0</td>\n",
       "      <td>0</td>\n",
       "    </tr>\n",
       "    <tr>\n",
       "      <th>2</th>\n",
       "      <td>Datsun 710</td>\n",
       "      <td>22.8</td>\n",
       "      <td>1</td>\n",
       "    </tr>\n",
       "    <tr>\n",
       "      <th>3</th>\n",
       "      <td>Hornet 4 Drive</td>\n",
       "      <td>21.4</td>\n",
       "      <td>1</td>\n",
       "    </tr>\n",
       "    <tr>\n",
       "      <th>4</th>\n",
       "      <td>Hornet Sportabout</td>\n",
       "      <td>18.7</td>\n",
       "      <td>0</td>\n",
       "    </tr>\n",
       "  </tbody>\n",
       "</table>\n",
       "</div>"
      ],
      "text/plain": [
       "            car_kind   mpg  vs\n",
       "0          Mazda RX4  21.0   0\n",
       "1      Mazda RX4 Wag  21.0   0\n",
       "2         Datsun 710  22.8   1\n",
       "3     Hornet 4 Drive  21.4   1\n",
       "4  Hornet Sportabout  18.7   0"
      ]
     },
     "execution_count": 3,
     "metadata": {},
     "output_type": "execute_result"
    }
   ],
   "source": [
    "data.head()"
   ]
  },
  {
   "cell_type": "code",
   "execution_count": 4,
   "id": "0522366c",
   "metadata": {},
   "outputs": [
    {
     "data": {
      "text/plain": [
       "array([0, 1])"
      ]
     },
     "execution_count": 4,
     "metadata": {},
     "output_type": "execute_result"
    }
   ],
   "source": [
    "data.vs.unique()"
   ]
  },
  {
   "cell_type": "code",
   "execution_count": 5,
   "id": "c11cf87b",
   "metadata": {},
   "outputs": [],
   "source": [
    "quantile = data.mpg.quantile(q=list(np.arange(0.05, 1, 0.05)),\n",
    "                            interpolation ='nearest')"
   ]
  },
  {
   "cell_type": "code",
   "execution_count": 6,
   "id": "38056b3e",
   "metadata": {},
   "outputs": [],
   "source": [
    "data['mpg_grp'] = 0 "
   ]
  },
  {
   "cell_type": "code",
   "execution_count": 7,
   "id": "04007641",
   "metadata": {},
   "outputs": [],
   "source": [
    "for i in range(data.mpg.size):\n",
    "    if data.loc[i, 'mpg'] <= quantile.iloc[7]:\n",
    "        data.loc[i, 'mpg_grp']=1\n",
    "    elif data.loc[i, 'mpg'] <= quantile.iloc[14]:\n",
    "        data.loc[i, 'mpg_grp']=1\n",
    "    else: data.loc[i, \"mpg_grp\"] = 3\n"
   ]
  },
  {
   "cell_type": "code",
   "execution_count": 8,
   "id": "ae93acb5",
   "metadata": {},
   "outputs": [],
   "source": [
    "data['bad_yn'] = np.where(data.vs == 0,1,0)"
   ]
  },
  {
   "cell_type": "code",
   "execution_count": 9,
   "id": "4275442e",
   "metadata": {},
   "outputs": [],
   "source": [
    "iv = data.groupby('mpg_grp')[['vs', 'bad_yn']].sum().reset_index()"
   ]
  },
  {
   "cell_type": "code",
   "execution_count": 10,
   "id": "06814ffd",
   "metadata": {},
   "outputs": [],
   "source": [
    "iv['good_pct'] = iv.vs / iv.vs.sum() #우량집단의 mpr_grp구간별 구성비 산출"
   ]
  },
  {
   "cell_type": "code",
   "execution_count": 11,
   "id": "0c4414cc",
   "metadata": {},
   "outputs": [],
   "source": [
    "iv['bad_pct'] = iv.bad_yn / iv.bad_yn.sum() #불량집단의 mpr_grp구간별 구성비 산출"
   ]
  },
  {
   "cell_type": "code",
   "execution_count": 12,
   "id": "ea1e4522",
   "metadata": {},
   "outputs": [],
   "source": [
    "for i in range(iv.mpg_grp.size):\n",
    "    iv.loc[i, 'IV'] = (iv.loc[i, 'good_pct'] - iv.loc[i, 'bad_pct'])*math.log(iv.loc[i, \"good_pct\"]/iv.loc[i, \"bad_pct\"])"
   ]
  },
  {
   "cell_type": "code",
   "execution_count": 13,
   "id": "faa11ba5",
   "metadata": {},
   "outputs": [
    {
     "data": {
      "text/html": [
       "<div>\n",
       "<style scoped>\n",
       "    .dataframe tbody tr th:only-of-type {\n",
       "        vertical-align: middle;\n",
       "    }\n",
       "\n",
       "    .dataframe tbody tr th {\n",
       "        vertical-align: top;\n",
       "    }\n",
       "\n",
       "    .dataframe thead th {\n",
       "        text-align: right;\n",
       "    }\n",
       "</style>\n",
       "<table border=\"1\" class=\"dataframe\">\n",
       "  <thead>\n",
       "    <tr style=\"text-align: right;\">\n",
       "      <th></th>\n",
       "      <th>mpg_grp</th>\n",
       "      <th>vs</th>\n",
       "      <th>bad_yn</th>\n",
       "      <th>good_pct</th>\n",
       "      <th>bad_pct</th>\n",
       "      <th>IV</th>\n",
       "    </tr>\n",
       "  </thead>\n",
       "  <tbody>\n",
       "    <tr>\n",
       "      <th>0</th>\n",
       "      <td>1</td>\n",
       "      <td>8</td>\n",
       "      <td>17</td>\n",
       "      <td>0.571429</td>\n",
       "      <td>0.944444</td>\n",
       "      <td>0.187425</td>\n",
       "    </tr>\n",
       "    <tr>\n",
       "      <th>1</th>\n",
       "      <td>3</td>\n",
       "      <td>6</td>\n",
       "      <td>1</td>\n",
       "      <td>0.428571</td>\n",
       "      <td>0.055556</td>\n",
       "      <td>0.762099</td>\n",
       "    </tr>\n",
       "  </tbody>\n",
       "</table>\n",
       "</div>"
      ],
      "text/plain": [
       "   mpg_grp  vs  bad_yn  good_pct   bad_pct        IV\n",
       "0        1   8      17  0.571429  0.944444  0.187425\n",
       "1        3   6       1  0.428571  0.055556  0.762099"
      ]
     },
     "execution_count": 13,
     "metadata": {},
     "output_type": "execute_result"
    }
   ],
   "source": [
    "iv"
   ]
  },
  {
   "cell_type": "code",
   "execution_count": 14,
   "id": "bf51c9b9",
   "metadata": {},
   "outputs": [
    {
     "data": {
      "text/plain": [
       "0.9495236"
      ]
     },
     "execution_count": 14,
     "metadata": {},
     "output_type": "execute_result"
    }
   ],
   "source": [
    "round(iv.IV.sum(), 7)"
   ]
  },
  {
   "cell_type": "code",
   "execution_count": null,
   "id": "1ae8ac9d",
   "metadata": {},
   "outputs": [],
   "source": []
  }
 ],
 "metadata": {
  "kernelspec": {
   "display_name": "Python 3 (ipykernel)",
   "language": "python",
   "name": "python3"
  },
  "language_info": {
   "codemirror_mode": {
    "name": "ipython",
    "version": 3
   },
   "file_extension": ".py",
   "mimetype": "text/x-python",
   "name": "python",
   "nbconvert_exporter": "python",
   "pygments_lexer": "ipython3",
   "version": "3.7.11"
  }
 },
 "nbformat": 4,
 "nbformat_minor": 5
}
