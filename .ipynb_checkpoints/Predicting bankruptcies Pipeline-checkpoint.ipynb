{
 "cells": [
  {
   "cell_type": "code",
   "execution_count": null,
   "id": "adc34a4f",
   "metadata": {},
   "outputs": [],
   "source": [
    "\n",
    "num_pipeline = Pipeline(steps = [ \n",
    "    (\"num_selector\", FeatureSelector(num_x_training)),\n",
    "    (\"imputer\", SimpleImputer(strategy=\"median\")),\n",
    "    (\"std_scaler\", RobustScaler()) \n",
    "])"
   ]
  },
  {
   "cell_type": "code",
   "execution_count": null,
   "id": "8639a152",
   "metadata": {},
   "outputs": [],
   "source": [
    "cat_pipeline = Pipeline( [ \n",
    "    ('cat_selector', FeatureSelector(cat_x_training) ),\n",
    "    ('imputer', SimpleImputer(strategy='`most_frequent')),\n",
    "    ('one_hot_encoder', OneHotEncoder(sparse = False, handle_unknown ='ignore')) \n",
    "])"
   ]
  },
  {
   "cell_type": "code",
   "execution_count": null,
   "id": "147c21d9",
   "metadata": {},
   "outputs": [],
   "source": [
    "# ColumnTranformer 로 열 변환자 객체 정의\n",
    "preprocessor = ColumnTransformer(transformers=[\n",
    "                                               ('numeric', num_pipeline, num_x_training),\n",
    "                                               ('categoryical', cat_pipeline, cat_x_training)\n",
    "], remainder='drop')\n"
   ]
  },
  {
   "cell_type": "code",
   "execution_count": null,
   "id": "73fdaa09",
   "metadata": {},
   "outputs": [],
   "source": [
    "\n",
    "full_pipeline = Pipeline(steps=[\n",
    "    ('preprocessor', preprocessor),\n",
    "    ('classifier', XGBClassifier(eval_metric='mlogloss', use_label_encoder=False))\n",
    "])\n",
    "     "
   ]
  }
 ],
 "metadata": {
  "kernelspec": {
   "display_name": "Python 3 (ipykernel)",
   "language": "python",
   "name": "python3"
  },
  "language_info": {
   "codemirror_mode": {
    "name": "ipython",
    "version": 3
   },
   "file_extension": ".py",
   "mimetype": "text/x-python",
   "name": "python",
   "nbconvert_exporter": "python",
   "pygments_lexer": "ipython3",
   "version": "3.7.11"
  }
 },
 "nbformat": 4,
 "nbformat_minor": 5
}
